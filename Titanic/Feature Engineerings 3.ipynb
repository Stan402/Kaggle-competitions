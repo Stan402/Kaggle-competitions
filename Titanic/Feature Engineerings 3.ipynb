{
 "cells": [
  {
   "cell_type": "code",
   "execution_count": 1,
   "metadata": {},
   "outputs": [],
   "source": [
    "import numpy as np\n",
    "import pandas as pd\n",
    "import matplotlib.pyplot as plt\n",
    "%matplotlib inline\n",
    "import seaborn as sns\n",
    "import xgboost as xgb\n",
    "import copy\n",
    "import math\n",
    "import random\n",
    "import time\n",
    "import re\n",
    "import graphviz\n",
    "import ast\n",
    "import sys\n",
    "from sklearn.model_selection import train_test_split\n",
    "from sklearn.tree import DecisionTreeClassifier\n",
    "from sklearn.tree import export_graphviz\n",
    "from sklearn.ensemble import RandomForestClassifier, AdaBoostClassifier, GradientBoostingClassifier\n",
    "from sklearn.model_selection import GridSearchCV\n",
    "from sklearn.metrics import accuracy_score\n",
    "from sklearn.neighbors import KNeighborsClassifier\n",
    "from sklearn.preprocessing import StandardScaler\n",
    "from sklearn.model_selection import StratifiedKFold\n",
    "from sklearn.svm import SVC"
   ]
  },
  {
   "cell_type": "code",
   "execution_count": 2,
   "metadata": {},
   "outputs": [
    {
     "data": {
      "text/html": [
       "<div>\n",
       "<style scoped>\n",
       "    .dataframe tbody tr th:only-of-type {\n",
       "        vertical-align: middle;\n",
       "    }\n",
       "\n",
       "    .dataframe tbody tr th {\n",
       "        vertical-align: top;\n",
       "    }\n",
       "\n",
       "    .dataframe thead th {\n",
       "        text-align: right;\n",
       "    }\n",
       "</style>\n",
       "<table border=\"1\" class=\"dataframe\">\n",
       "  <thead>\n",
       "    <tr style=\"text-align: right;\">\n",
       "      <th></th>\n",
       "      <th>PassengerId</th>\n",
       "      <th>Pclass</th>\n",
       "      <th>Name</th>\n",
       "      <th>Sex</th>\n",
       "      <th>Age</th>\n",
       "      <th>SibSp</th>\n",
       "      <th>Parch</th>\n",
       "      <th>Ticket</th>\n",
       "      <th>Fare</th>\n",
       "      <th>Cabin</th>\n",
       "      <th>Embarked</th>\n",
       "    </tr>\n",
       "  </thead>\n",
       "  <tbody>\n",
       "    <tr>\n",
       "      <th>0</th>\n",
       "      <td>892</td>\n",
       "      <td>3</td>\n",
       "      <td>Kelly, Mr. James</td>\n",
       "      <td>male</td>\n",
       "      <td>34.5</td>\n",
       "      <td>0</td>\n",
       "      <td>0</td>\n",
       "      <td>330911</td>\n",
       "      <td>7.8292</td>\n",
       "      <td>Unknown</td>\n",
       "      <td>Q</td>\n",
       "    </tr>\n",
       "    <tr>\n",
       "      <th>1</th>\n",
       "      <td>893</td>\n",
       "      <td>3</td>\n",
       "      <td>Wilkes, Mrs. James (Ellen Needs)</td>\n",
       "      <td>female</td>\n",
       "      <td>47.0</td>\n",
       "      <td>1</td>\n",
       "      <td>0</td>\n",
       "      <td>363272</td>\n",
       "      <td>7.0000</td>\n",
       "      <td>Unknown</td>\n",
       "      <td>S</td>\n",
       "    </tr>\n",
       "    <tr>\n",
       "      <th>2</th>\n",
       "      <td>894</td>\n",
       "      <td>2</td>\n",
       "      <td>Myles, Mr. Thomas Francis</td>\n",
       "      <td>male</td>\n",
       "      <td>62.0</td>\n",
       "      <td>0</td>\n",
       "      <td>0</td>\n",
       "      <td>240276</td>\n",
       "      <td>9.6875</td>\n",
       "      <td>Unknown</td>\n",
       "      <td>Q</td>\n",
       "    </tr>\n",
       "    <tr>\n",
       "      <th>3</th>\n",
       "      <td>895</td>\n",
       "      <td>3</td>\n",
       "      <td>Wirz, Mr. Albert</td>\n",
       "      <td>male</td>\n",
       "      <td>27.0</td>\n",
       "      <td>0</td>\n",
       "      <td>0</td>\n",
       "      <td>315154</td>\n",
       "      <td>8.6625</td>\n",
       "      <td>Unknown</td>\n",
       "      <td>S</td>\n",
       "    </tr>\n",
       "    <tr>\n",
       "      <th>4</th>\n",
       "      <td>896</td>\n",
       "      <td>3</td>\n",
       "      <td>Hirvonen, Mrs. Alexander (Helga E Lindqvist)</td>\n",
       "      <td>female</td>\n",
       "      <td>22.0</td>\n",
       "      <td>1</td>\n",
       "      <td>1</td>\n",
       "      <td>3101298</td>\n",
       "      <td>12.2875</td>\n",
       "      <td>Unknown</td>\n",
       "      <td>S</td>\n",
       "    </tr>\n",
       "  </tbody>\n",
       "</table>\n",
       "</div>"
      ],
      "text/plain": [
       "   PassengerId  Pclass                                          Name     Sex  \\\n",
       "0          892       3                              Kelly, Mr. James    male   \n",
       "1          893       3              Wilkes, Mrs. James (Ellen Needs)  female   \n",
       "2          894       2                     Myles, Mr. Thomas Francis    male   \n",
       "3          895       3                              Wirz, Mr. Albert    male   \n",
       "4          896       3  Hirvonen, Mrs. Alexander (Helga E Lindqvist)  female   \n",
       "\n",
       "    Age  SibSp  Parch   Ticket     Fare    Cabin Embarked  \n",
       "0  34.5      0      0   330911   7.8292  Unknown        Q  \n",
       "1  47.0      1      0   363272   7.0000  Unknown        S  \n",
       "2  62.0      0      0   240276   9.6875  Unknown        Q  \n",
       "3  27.0      0      0   315154   8.6625  Unknown        S  \n",
       "4  22.0      1      1  3101298  12.2875  Unknown        S  "
      ]
     },
     "execution_count": 2,
     "metadata": {},
     "output_type": "execute_result"
    }
   ],
   "source": [
    "data = pd.read_csv('train_clean.csv', index_col=0)\n",
    "data_test = pd.read_csv('test_clean.csv', index_col=0)\n",
    "data_test.head()"
   ]
  },
  {
   "cell_type": "code",
   "execution_count": 3,
   "metadata": {},
   "outputs": [
    {
     "data": {
      "text/plain": [
       "((891, 11), (418, 11))"
      ]
     },
     "execution_count": 3,
     "metadata": {},
     "output_type": "execute_result"
    }
   ],
   "source": [
    "data_label = data['Survived']\n",
    "data_train = data.drop('Survived', axis=1)\n",
    "data_train.shape, data_test.shape"
   ]
  },
  {
   "cell_type": "code",
   "execution_count": 4,
   "metadata": {},
   "outputs": [],
   "source": [
    "full_data = data.append(data_test, ignore_index=True, sort=False)\n",
    "full_data = full_data.fillna(-1)\n",
    "full_data['Survived'] = full_data['Survived'].apply(int)"
   ]
  },
  {
   "cell_type": "code",
   "execution_count": 5,
   "metadata": {},
   "outputs": [],
   "source": [
    "def getTitle(name):\n",
    "    title = re.search(' ([A-Za-z]+)\\.', name)\n",
    "    if title:\n",
    "        return title.group(1)\n",
    "    return ''\n",
    "\n",
    "def groupTitles(title):\n",
    "    rares = ['Lady', 'Countess','Capt', 'Col','Don', 'Dr', 'Major', 'Rev', 'Sir', 'Jonkheer', 'Dona']\n",
    "    if title in rares:\n",
    "        title = 'Rare'\n",
    "    title = title.replace('Mlle', 'Miss')\n",
    "    title = title.replace('Ms', 'Miss')\n",
    "    title = title.replace('Mme', 'Mrs')\n",
    "    return title\n",
    "\n",
    "def get_LastName(name):\n",
    "    words = name.split()\n",
    "    last_name = ''\n",
    "    flag = False\n",
    "    for word in words:\n",
    "        if word[0] == '(':\n",
    "            break\n",
    "        if flag:\n",
    "            last_name += word + ' '\n",
    "        if word[-1] == '.':\n",
    "            flag = True\n",
    "    return last_name[:-1]\n",
    "\n",
    "def getLastName(name):\n",
    "    return name.split()[0][:-1]\n",
    "        \n",
    "def shift_0_age(age):\n",
    "    if age == 0:\n",
    "        return 30\n",
    "    else:\n",
    "        return age\n",
    "\n",
    "def shift_30_age_master(age, title):\n",
    "    if age == 0:\n",
    "        if title == 'Master':\n",
    "            return 10\n",
    "        else:\n",
    "            return 30\n",
    "    else:\n",
    "        return age\n",
    "    \n",
    "def getTicketGroup(ticket):\n",
    "    return full_data[full_data['Ticket'] == ticket].shape[0]\n",
    "\n",
    "def getTicketGroupSurvival(ticket):\n",
    "    return 0\n",
    "\n",
    "def getSexChild(sex, age):\n",
    "    if age <= 15:\n",
    "        return 2\n",
    "    else:\n",
    "        return int(sex == 'female')\n",
    "    \n",
    "def getFullGroup(ticket):\n",
    "    group = full_data[full_data['Ticket'] == ticket]\n",
    "    \n",
    "    return int(len(group['SexChild'].unique()) == 3)\n",
    "\n",
    "def getFullFamily(last_name):\n",
    "    group = full_data[full_data['Last Name'] == last_name]\n",
    "    \n",
    "    return int(len(group['SexChild'].unique()) == 3)\n",
    "\n",
    "def getFareAdjasted(fare, ticket_group):\n",
    "    return fare/float(ticket_group)"
   ]
  },
  {
   "cell_type": "code",
   "execution_count": 6,
   "metadata": {},
   "outputs": [],
   "source": [
    "full_data['Title'] = full_data['Name'].apply(getTitle)\n",
    "full_data['Title'] = full_data['Title'].apply(groupTitles)\n",
    "full_data['Last Name'] = full_data['Name'].apply(getLastName)\n",
    "full_data['Family_size'] = full_data['SibSp'] + full_data['Parch'] + 1\n",
    "full_data['isAlone'] = (full_data['Family_size'] == 1).apply(int)\n",
    "full_data['Ticket_group'] = full_data['Ticket'].apply(getTicketGroup)\n",
    "full_data['isAlone2'] = (full_data['Ticket_group'] == 1).apply(int)\n",
    "full_data['Age'] = full_data[['Age', 'Title']].apply(lambda row: shift_30_age_master(row['Age'], row['Title']), axis=1)\n",
    "full_data['SexChild'] = full_data[['Sex', 'Age']].apply(lambda row: getSexChild(row['Sex'], row['Age']), axis=1)\n",
    "full_data['full_group'] = full_data['Ticket'].apply(getFullGroup)\n",
    "full_data['full_family'] = full_data['Last Name'].apply(getFullFamily)\n",
    "full_data['hasCabin'] = (full_data['Cabin'] != 'Unknown').apply(int)\n",
    "full_data['Fare_adj'] = full_data[['Fare',\n",
    "                                   'Ticket_group']].apply(lambda row:getFareAdjasted(row['Fare'], row['Ticket_group']), axis=1)"
   ]
  },
  {
   "cell_type": "code",
   "execution_count": 7,
   "metadata": {},
   "outputs": [
    {
     "data": {
      "text/plain": [
       "Index(['PassengerId', 'Survived', 'Pclass', 'Name', 'Sex', 'Age', 'SibSp',\n",
       "       'Parch', 'Ticket', 'Fare', 'Cabin', 'Embarked', 'Title', 'Last Name',\n",
       "       'Family_size', 'isAlone', 'Ticket_group', 'isAlone2', 'SexChild',\n",
       "       'full_group', 'full_family', 'hasCabin', 'Fare_adj'],\n",
       "      dtype='object')"
      ]
     },
     "execution_count": 7,
     "metadata": {},
     "output_type": "execute_result"
    }
   ],
   "source": [
    "full_data.columns"
   ]
  },
  {
   "cell_type": "code",
   "execution_count": 8,
   "metadata": {},
   "outputs": [
    {
     "data": {
      "text/plain": [
       "(891, 23)"
      ]
     },
     "execution_count": 8,
     "metadata": {},
     "output_type": "execute_result"
    }
   ],
   "source": [
    "train_d = full_data[full_data['Survived']>=0].copy()\n",
    "test_d = full_data[full_data['Survived'] == 0].copy()\n",
    "train_d.shape"
   ]
  },
  {
   "cell_type": "code",
   "execution_count": 9,
   "metadata": {},
   "outputs": [
    {
     "data": {
      "image/png": "[encoded data removed]",
      "text/plain": [
       "<Figure size 432x288 with 1 Axes>"
      ]
     },
     "metadata": {},
     "output_type": "display_data"
    }
   ],
   "source": [
    "plot_data = full_data[full_data['Pclass'] == 3]\n",
    "plt.scatter(plot_data['Fare_adj'], plot_data['Ticket_group'])\n",
    "plt.show()"
   ]
  },
  {
   "cell_type": "code",
   "execution_count": 10,
   "metadata": {},
   "outputs": [
    {
     "data": {
      "text/plain": [
       "(0, 200)"
      ]
     },
     "execution_count": 10,
     "metadata": {},
     "output_type": "execute_result"
    },
    {
     "data": {
      "image/png": "[encoded data removed]",
      "text/plain": [
       "<Figure size 432x288 with 1 Axes>"
      ]
     },
     "metadata": {},
     "output_type": "display_data"
    }
   ],
   "source": [
    "for pclass in range(1,4):\n",
    "    subset = train_d[train_d['Pclass'] == pclass]\n",
    "    sns.distplot(subset['Fare'], hist=False, kde=True\n",
    "                , kde_kws={'linewidth':3}, label=pclass)  \n",
    "plt.xlim(0,200)"
   ]
  },
  {
   "cell_type": "code",
   "execution_count": 11,
   "metadata": {},
   "outputs": [
    {
     "data": {
      "text/plain": [
       "(0, 50)"
      ]
     },
     "execution_count": 11,
     "metadata": {},
     "output_type": "execute_result"
    },
    {
     "data": {
      "image/png": "[encoded data removed]",
      "text/plain": [
       "<Figure size 432x288 with 1 Axes>"
      ]
     },
     "metadata": {},
     "output_type": "display_data"
    }
   ],
   "source": [
    "for pclass in range(1,4):\n",
    "    subset = train_d[train_d['Pclass'] == pclass]\n",
    "    sns.distplot(subset['Fare_adj'], hist=False, kde=True\n",
    "                , kde_kws={'linewidth':3}, label=pclass)  \n",
    "plt.xlim(0,50)"
   ]
  },
  {
   "cell_type": "code",
   "execution_count": 12,
   "metadata": {},
   "outputs": [
    {
     "data": {
      "text/plain": [
       "(1309, 23)"
      ]
     },
     "execution_count": 12,
     "metadata": {},
     "output_type": "execute_result"
    }
   ],
   "source": [
    "full_data.shape"
   ]
  },
  {
   "cell_type": "code",
   "execution_count": 13,
   "metadata": {},
   "outputs": [
    {
     "data": {
      "text/plain": [
       "(167, 23)"
      ]
     },
     "execution_count": 13,
     "metadata": {},
     "output_type": "execute_result"
    }
   ],
   "source": [
    "family_data = full_data[full_data['full_family'] == 1]\n",
    "family_data.shape"
   ]
  },
  {
   "cell_type": "code",
   "execution_count": 14,
   "metadata": {},
   "outputs": [
    {
     "data": {
      "text/plain": [
       "(52, 23)"
      ]
     },
     "execution_count": 14,
     "metadata": {},
     "output_type": "execute_result"
    }
   ],
   "source": [
    "family_data[family_data['Survived'] == -1].shape"
   ]
  },
  {
   "cell_type": "code",
   "execution_count": 15,
   "metadata": {},
   "outputs": [],
   "source": [
    "def get_family_survival(last_name, sexChild):\n",
    "    group = full_data[full_data['Last Name'] == last_name]\n",
    "    group = group[(group['SexChild'] == sexChild) & (group['Survived'] >= 0)]\n",
    "    if group.shape[0] == 0:\n",
    "        return -1\n",
    "    else:\n",
    "        return group['Survived'].mean()\n",
    "    \n",
    "def get_male_survival(last_name):\n",
    "    return get_family_survival(last_name, 0)\n",
    "\n",
    "def get_female_survival(last_name):\n",
    "    return get_family_survival(last_name, 1)\n",
    "\n",
    "def get_child_survival(last_name):\n",
    "    return get_family_survival(last_name, 2)"
   ]
  },
  {
   "cell_type": "code",
   "execution_count": 16,
   "metadata": {},
   "outputs": [],
   "source": [
    "full_data['M Survival'] = full_data['Last Name'].apply(get_male_survival)\n",
    "full_data['F Survival'] = full_data['Last Name'].apply(get_female_survival)\n",
    "full_data['C Survival'] = full_data['Last Name'].apply(get_child_survival)"
   ]
  },
  {
   "cell_type": "code",
   "execution_count": 17,
   "metadata": {},
   "outputs": [
    {
     "data": {
      "text/html": [
       "<div>\n",
       "<style scoped>\n",
       "    .dataframe tbody tr th:only-of-type {\n",
       "        vertical-align: middle;\n",
       "    }\n",
       "\n",
       "    .dataframe tbody tr th {\n",
       "        vertical-align: top;\n",
       "    }\n",
       "\n",
       "    .dataframe thead th {\n",
       "        text-align: right;\n",
       "    }\n",
       "</style>\n",
       "<table border=\"1\" class=\"dataframe\">\n",
       "  <thead>\n",
       "    <tr style=\"text-align: right;\">\n",
       "      <th></th>\n",
       "      <th>PassengerId</th>\n",
       "      <th>Survived</th>\n",
       "      <th>Pclass</th>\n",
       "      <th>Name</th>\n",
       "      <th>Sex</th>\n",
       "      <th>Age</th>\n",
       "      <th>SibSp</th>\n",
       "      <th>Parch</th>\n",
       "      <th>Ticket</th>\n",
       "      <th>Fare</th>\n",
       "      <th>...</th>\n",
       "      <th>Ticket_group</th>\n",
       "      <th>isAlone2</th>\n",
       "      <th>SexChild</th>\n",
       "      <th>full_group</th>\n",
       "      <th>full_family</th>\n",
       "      <th>hasCabin</th>\n",
       "      <th>Fare_adj</th>\n",
       "      <th>M Survival</th>\n",
       "      <th>F Survival</th>\n",
       "      <th>C Survival</th>\n",
       "    </tr>\n",
       "  </thead>\n",
       "  <tbody>\n",
       "    <tr>\n",
       "      <th>8</th>\n",
       "      <td>9</td>\n",
       "      <td>1</td>\n",
       "      <td>3</td>\n",
       "      <td>Johnson, Mrs. Oscar W (Elisabeth Vilhelmina Berg)</td>\n",
       "      <td>female</td>\n",
       "      <td>27.0</td>\n",
       "      <td>0</td>\n",
       "      <td>2</td>\n",
       "      <td>347742</td>\n",
       "      <td>11.1333</td>\n",
       "      <td>...</td>\n",
       "      <td>3</td>\n",
       "      <td>0</td>\n",
       "      <td>1</td>\n",
       "      <td>0</td>\n",
       "      <td>1</td>\n",
       "      <td>0</td>\n",
       "      <td>3.711100</td>\n",
       "      <td>0.0</td>\n",
       "      <td>1.0</td>\n",
       "      <td>1.000000</td>\n",
       "    </tr>\n",
       "    <tr>\n",
       "      <th>13</th>\n",
       "      <td>14</td>\n",
       "      <td>0</td>\n",
       "      <td>3</td>\n",
       "      <td>Andersson, Mr. Anders Johan</td>\n",
       "      <td>male</td>\n",
       "      <td>39.0</td>\n",
       "      <td>1</td>\n",
       "      <td>5</td>\n",
       "      <td>347082</td>\n",
       "      <td>31.2750</td>\n",
       "      <td>...</td>\n",
       "      <td>7</td>\n",
       "      <td>0</td>\n",
       "      <td>0</td>\n",
       "      <td>1</td>\n",
       "      <td>1</td>\n",
       "      <td>0</td>\n",
       "      <td>4.467857</td>\n",
       "      <td>0.5</td>\n",
       "      <td>0.5</td>\n",
       "      <td>0.000000</td>\n",
       "    </tr>\n",
       "    <tr>\n",
       "      <th>25</th>\n",
       "      <td>26</td>\n",
       "      <td>1</td>\n",
       "      <td>3</td>\n",
       "      <td>Asplund, Mrs. Carl Oscar (Selma Augusta Emilia...</td>\n",
       "      <td>female</td>\n",
       "      <td>38.0</td>\n",
       "      <td>1</td>\n",
       "      <td>5</td>\n",
       "      <td>347077</td>\n",
       "      <td>31.3875</td>\n",
       "      <td>...</td>\n",
       "      <td>7</td>\n",
       "      <td>0</td>\n",
       "      <td>1</td>\n",
       "      <td>1</td>\n",
       "      <td>1</td>\n",
       "      <td>0</td>\n",
       "      <td>4.483929</td>\n",
       "      <td>-1.0</td>\n",
       "      <td>1.0</td>\n",
       "      <td>0.666667</td>\n",
       "    </tr>\n",
       "    <tr>\n",
       "      <th>43</th>\n",
       "      <td>44</td>\n",
       "      <td>1</td>\n",
       "      <td>2</td>\n",
       "      <td>Laroche, Miss. Simonne Marie Anne Andree</td>\n",
       "      <td>female</td>\n",
       "      <td>3.0</td>\n",
       "      <td>1</td>\n",
       "      <td>2</td>\n",
       "      <td>SC/Paris 2123</td>\n",
       "      <td>41.5792</td>\n",
       "      <td>...</td>\n",
       "      <td>4</td>\n",
       "      <td>0</td>\n",
       "      <td>2</td>\n",
       "      <td>1</td>\n",
       "      <td>1</td>\n",
       "      <td>0</td>\n",
       "      <td>10.394800</td>\n",
       "      <td>0.0</td>\n",
       "      <td>1.0</td>\n",
       "      <td>1.000000</td>\n",
       "    </tr>\n",
       "    <tr>\n",
       "      <th>50</th>\n",
       "      <td>51</td>\n",
       "      <td>0</td>\n",
       "      <td>3</td>\n",
       "      <td>Panula, Master. Juha Niilo</td>\n",
       "      <td>male</td>\n",
       "      <td>7.0</td>\n",
       "      <td>4</td>\n",
       "      <td>1</td>\n",
       "      <td>3101295</td>\n",
       "      <td>39.6875</td>\n",
       "      <td>...</td>\n",
       "      <td>7</td>\n",
       "      <td>0</td>\n",
       "      <td>2</td>\n",
       "      <td>1</td>\n",
       "      <td>1</td>\n",
       "      <td>0</td>\n",
       "      <td>5.669643</td>\n",
       "      <td>0.0</td>\n",
       "      <td>0.0</td>\n",
       "      <td>0.000000</td>\n",
       "    </tr>\n",
       "  </tbody>\n",
       "</table>\n",
       "<p>5 rows × 26 columns</p>\n",
       "</div>"
      ],
      "text/plain": [
       "    PassengerId  Survived  Pclass  \\\n",
       "8             9         1       3   \n",
       "13           14         0       3   \n",
       "25           26         1       3   \n",
       "43           44         1       2   \n",
       "50           51         0       3   \n",
       "\n",
       "                                                 Name     Sex   Age  SibSp  \\\n",
       "8   Johnson, Mrs. Oscar W (Elisabeth Vilhelmina Berg)  female  27.0      0   \n",
       "13                        Andersson, Mr. Anders Johan    male  39.0      1   \n",
       "25  Asplund, Mrs. Carl Oscar (Selma Augusta Emilia...  female  38.0      1   \n",
       "43           Laroche, Miss. Simonne Marie Anne Andree  female   3.0      1   \n",
       "50                         Panula, Master. Juha Niilo    male   7.0      4   \n",
       "\n",
       "    Parch         Ticket     Fare     ...     Ticket_group isAlone2 SexChild  \\\n",
       "8       2         347742  11.1333     ...                3        0        1   \n",
       "13      5         347082  31.2750     ...                7        0        0   \n",
       "25      5         347077  31.3875     ...                7        0        1   \n",
       "43      2  SC/Paris 2123  41.5792     ...                4        0        2   \n",
       "50      1        3101295  39.6875     ...                7        0        2   \n",
       "\n",
       "   full_group  full_family  hasCabin   Fare_adj  M Survival  F Survival  \\\n",
       "8           0            1         0   3.711100         0.0         1.0   \n",
       "13          1            1         0   4.467857         0.5         0.5   \n",
       "25          1            1         0   4.483929        -1.0         1.0   \n",
       "43          1            1         0  10.394800         0.0         1.0   \n",
       "50          1            1         0   5.669643         0.0         0.0   \n",
       "\n",
       "    C Survival  \n",
       "8     1.000000  \n",
       "13    0.000000  \n",
       "25    0.666667  \n",
       "43    1.000000  \n",
       "50    0.000000  \n",
       "\n",
       "[5 rows x 26 columns]"
      ]
     },
     "execution_count": 17,
     "metadata": {},
     "output_type": "execute_result"
    }
   ],
   "source": [
    "full_data[full_data['full_family'] == 1].head()"
   ]
  },
  {
   "cell_type": "code",
   "execution_count": 18,
   "metadata": {},
   "outputs": [
    {
     "data": {
      "text/plain": [
       "Index(['PassengerId', 'Survived', 'Pclass', 'Name', 'Sex', 'Age', 'SibSp',\n",
       "       'Parch', 'Ticket', 'Fare', 'Cabin', 'Embarked', 'Title', 'Last Name',\n",
       "       'Family_size', 'isAlone', 'Ticket_group', 'isAlone2', 'SexChild',\n",
       "       'full_group', 'full_family', 'hasCabin', 'Fare_adj', 'M Survival',\n",
       "       'F Survival', 'C Survival'],\n",
       "      dtype='object')"
      ]
     },
     "execution_count": 18,
     "metadata": {},
     "output_type": "execute_result"
    }
   ],
   "source": [
    "full_data.columns"
   ]
  },
  {
   "cell_type": "code",
   "execution_count": 19,
   "metadata": {},
   "outputs": [
    {
     "data": {
      "text/plain": [
       "(891, 26)"
      ]
     },
     "execution_count": 19,
     "metadata": {},
     "output_type": "execute_result"
    }
   ],
   "source": [
    "train_d = full_data[full_data['Survived']>=0].copy()\n",
    "test_d = full_data[full_data['Survived'] == 0].copy()\n",
    "train_d.shape"
   ]
  },
  {
   "cell_type": "code",
   "execution_count": 20,
   "metadata": {},
   "outputs": [
    {
     "data": {
      "text/plain": [
       "SexChild\n",
       "0    13\n",
       "1    20\n",
       "2    34\n",
       "Name: Survived, dtype: int64"
      ]
     },
     "execution_count": 20,
     "metadata": {},
     "output_type": "execute_result"
    }
   ],
   "source": [
    "temp = train_d[(train_d['C Survival'] == 0)]\n",
    "temp.groupby('SexChild')['Survived'].count()"
   ]
  },
  {
   "cell_type": "code",
   "execution_count": 21,
   "metadata": {},
   "outputs": [],
   "source": [
    "def get_family_survival(passId, last_name):\n",
    "    group = full_data[(full_data['Last Name'] == last_name) & (full_data['PassengerId'] != passId)]\n",
    "    group = group[(group['Survived'] >= 0)]\n",
    "    if group.shape[0] == 0:\n",
    "        return -1\n",
    "    else:\n",
    "        return group['Survived'].mean()\n",
    "    \n",
    "def get_ticket_survival(passId, ticket):\n",
    "    group = full_data[(full_data['Ticket'] == ticket) & (full_data['PassengerId'] != passId)]\n",
    "    group = group[(group['Survived'] >= 0)]\n",
    "    if group.shape[0] == 0:\n",
    "        return -1\n",
    "    else:\n",
    "        return group['Survived'].mean()\n",
    "    "
   ]
  },
  {
   "cell_type": "code",
   "execution_count": 65,
   "metadata": {},
   "outputs": [],
   "source": [
    "full_data['Family Survival'] = full_data[['PassengerId', 'Last Name']].apply(\n",
    "    lambda row: get_family_survival(row['PassengerId'], row['Last Name']), axis=1)\n",
    "full_data['Ticket Survival'] = full_data[['PassengerId', 'Ticket']].apply(\n",
    "    lambda row: get_ticket_survival(row['PassengerId'], row['Ticket']), axis=1)"
   ]
  },
  {
   "cell_type": "code",
   "execution_count": 23,
   "metadata": {},
   "outputs": [
    {
     "data": {
      "text/plain": [
       "(335, 28)"
      ]
     },
     "execution_count": 23,
     "metadata": {},
     "output_type": "execute_result"
    }
   ],
   "source": [
    "full_data[abs(full_data['Family Survival'] - full_data['Ticket Survival']) > 0.1].shape"
   ]
  },
  {
   "cell_type": "code",
   "execution_count": 24,
   "metadata": {},
   "outputs": [
    {
     "data": {
      "text/plain": [
       "(556, 28)"
      ]
     },
     "execution_count": 24,
     "metadata": {},
     "output_type": "execute_result"
    }
   ],
   "source": [
    "full_data[full_data['Family Survival'] >= 0].shape"
   ]
  },
  {
   "cell_type": "code",
   "execution_count": 25,
   "metadata": {},
   "outputs": [
    {
     "data": {
      "text/plain": [
       "(496, 28)"
      ]
     },
     "execution_count": 25,
     "metadata": {},
     "output_type": "execute_result"
    }
   ],
   "source": [
    "full_data[full_data['Ticket Survival'] >= 0].shape"
   ]
  },
  {
   "cell_type": "code",
   "execution_count": 26,
   "metadata": {},
   "outputs": [
    {
     "data": {
      "text/plain": [
       "(891, 28)"
      ]
     },
     "execution_count": 26,
     "metadata": {},
     "output_type": "execute_result"
    }
   ],
   "source": [
    "train_d = full_data[full_data['Survived']>=0].copy()\n",
    "test_d = full_data[full_data['Survived'] == 0].copy()\n",
    "train_d.shape"
   ]
  },
  {
   "cell_type": "code",
   "execution_count": 27,
   "metadata": {},
   "outputs": [
    {
     "data": {
      "text/plain": [
       "([array([23.,  0.,  1.,  0.,  0.,  1.,  0.,  0.,  0.,  0.]),\n",
       "  array([ 6.,  1.,  0.,  3.,  1.,  8.,  2.,  0.,  0., 17.])],\n",
       " array([0. , 0.1, 0.2, 0.3, 0.4, 0.5, 0.6, 0.7, 0.8, 0.9, 1. ]),\n",
       " <a list of 2 Lists of Patches objects>)"
      ]
     },
     "execution_count": 27,
     "metadata": {},
     "output_type": "execute_result"
    },
    {
     "data": {
      "image/png": "[encoded data removed]",
      "text/plain": [
       "<Figure size 432x288 with 1 Axes>"
      ]
     },
     "metadata": {},
     "output_type": "display_data"
    }
   ],
   "source": [
    "to_plot = full_data[(full_data['SexChild'] == 1) & (full_data['Family Survival'] >= 0) & (full_data['Family_size'] > 2)]\n",
    "#for surv in range(2):\n",
    "    #sns.distplot(to_plot[to_plot['Survived'] == surv]['Family Survival'], hist=False, label=surv)\n",
    "    #to_plot[to_plot['Survived'] == surv]['Family Survival'].hist()\n",
    "\n",
    "plt.hist([to_plot[to_plot['Survived'] == 0]['Family Survival'], to_plot[to_plot['Survived'] == 1]['Family Survival']])"
   ]
  },
  {
   "cell_type": "code",
   "execution_count": 28,
   "metadata": {},
   "outputs": [
    {
     "data": {
      "text/plain": [
       "([array([23.,  0.,  0.,  0.,  0.,  0.,  1.,  0.,  0.,  0.]),\n",
       "  array([ 6.,  0.,  0.,  2.,  0.,  7.,  2.,  0.,  0., 20.])],\n",
       " array([0. , 0.1, 0.2, 0.3, 0.4, 0.5, 0.6, 0.7, 0.8, 0.9, 1. ]),\n",
       " <a list of 2 Lists of Patches objects>)"
      ]
     },
     "execution_count": 28,
     "metadata": {},
     "output_type": "execute_result"
    },
    {
     "data": {
      "image/png": "[encoded data removed]",
      "text/plain": [
       "<Figure size 432x288 with 1 Axes>"
      ]
     },
     "metadata": {},
     "output_type": "display_data"
    }
   ],
   "source": [
    "to_plot = full_data[(full_data['SexChild'] == 1) & (full_data['Ticket Survival'] >= 0) & (full_data['Family_size'] > 2)]\n",
    "\n",
    "plt.hist([to_plot[to_plot['Survived'] == 0]['Ticket Survival'], to_plot[to_plot['Survived'] == 1]['Ticket Survival']])"
   ]
  },
  {
   "cell_type": "code",
   "execution_count": 30,
   "metadata": {},
   "outputs": [
    {
     "data": {
      "text/html": [
       "<div>\n",
       "<style scoped>\n",
       "    .dataframe tbody tr th:only-of-type {\n",
       "        vertical-align: middle;\n",
       "    }\n",
       "\n",
       "    .dataframe tbody tr th {\n",
       "        vertical-align: top;\n",
       "    }\n",
       "\n",
       "    .dataframe thead th {\n",
       "        text-align: right;\n",
       "    }\n",
       "</style>\n",
       "<table border=\"1\" class=\"dataframe\">\n",
       "  <thead>\n",
       "    <tr style=\"text-align: right;\">\n",
       "      <th></th>\n",
       "      <th>PassengerId</th>\n",
       "      <th>Survived</th>\n",
       "      <th>Pclass</th>\n",
       "      <th>Name</th>\n",
       "      <th>Sex</th>\n",
       "      <th>Age</th>\n",
       "      <th>SibSp</th>\n",
       "      <th>Parch</th>\n",
       "      <th>Ticket</th>\n",
       "      <th>Fare</th>\n",
       "      <th>...</th>\n",
       "      <th>full_group</th>\n",
       "      <th>full_family</th>\n",
       "      <th>hasCabin</th>\n",
       "      <th>Fare_adj</th>\n",
       "      <th>M Survival</th>\n",
       "      <th>F Survival</th>\n",
       "      <th>C Survival</th>\n",
       "      <th>Family Survival</th>\n",
       "      <th>Ticket Survival</th>\n",
       "      <th>Group Survival</th>\n",
       "    </tr>\n",
       "  </thead>\n",
       "  <tbody>\n",
       "    <tr>\n",
       "      <th>0</th>\n",
       "      <td>1</td>\n",
       "      <td>0</td>\n",
       "      <td>3</td>\n",
       "      <td>Braund, Mr. Owen Harris</td>\n",
       "      <td>male</td>\n",
       "      <td>22.0</td>\n",
       "      <td>1</td>\n",
       "      <td>0</td>\n",
       "      <td>A/5 21171</td>\n",
       "      <td>7.25</td>\n",
       "      <td>...</td>\n",
       "      <td>0</td>\n",
       "      <td>0</td>\n",
       "      <td>0</td>\n",
       "      <td>7.25</td>\n",
       "      <td>0.0</td>\n",
       "      <td>-1.0</td>\n",
       "      <td>-1.0</td>\n",
       "      <td>0.0</td>\n",
       "      <td>-1.0</td>\n",
       "      <td>0.0</td>\n",
       "    </tr>\n",
       "  </tbody>\n",
       "</table>\n",
       "<p>1 rows × 29 columns</p>\n",
       "</div>"
      ],
      "text/plain": [
       "   PassengerId  Survived  Pclass                     Name   Sex   Age  SibSp  \\\n",
       "0            1         0       3  Braund, Mr. Owen Harris  male  22.0      1   \n",
       "\n",
       "   Parch     Ticket  Fare       ...       full_group full_family hasCabin  \\\n",
       "0      0  A/5 21171  7.25       ...                0           0        0   \n",
       "\n",
       "  Fare_adj  M Survival  F Survival  C Survival  Family Survival  \\\n",
       "0     7.25         0.0        -1.0        -1.0              0.0   \n",
       "\n",
       "   Ticket Survival  Group Survival  \n",
       "0             -1.0             0.0  \n",
       "\n",
       "[1 rows x 29 columns]"
      ]
     },
     "execution_count": 30,
     "metadata": {},
     "output_type": "execute_result"
    }
   ],
   "source": [
    "full_data['Group Survival'] = full_data[['Family Survival', 'Ticket Survival']].apply(max, axis=1)\n",
    "full_data.head(1)"
   ]
  },
  {
   "cell_type": "code",
   "execution_count": 31,
   "metadata": {},
   "outputs": [
    {
     "data": {
      "text/plain": [
       "(664, 29)"
      ]
     },
     "execution_count": 31,
     "metadata": {},
     "output_type": "execute_result"
    }
   ],
   "source": [
    "full_data[full_data['Group Survival'] >= 0].shape"
   ]
  },
  {
   "cell_type": "code",
   "execution_count": 32,
   "metadata": {},
   "outputs": [
    {
     "data": {
      "text/plain": [
       "([array([20.,  0.,  1.,  0.,  0.,  1.,  2.,  0.,  0., 17.]),\n",
       "  array([0., 0., 0., 0., 0., 0., 1., 0., 0., 5.])],\n",
       " array([0. , 0.1, 0.2, 0.3, 0.4, 0.5, 0.6, 0.7, 0.8, 0.9, 1. ]),\n",
       " <a list of 2 Lists of Patches objects>)"
      ]
     },
     "execution_count": 32,
     "metadata": {},
     "output_type": "execute_result"
    },
    {
     "data": {
      "image/png": "[encoded data removed]",
      "text/plain": [
       "<Figure size 432x288 with 1 Axes>"
      ]
     },
     "metadata": {},
     "output_type": "display_data"
    }
   ],
   "source": [
    "to_plot = full_data[(full_data['SexChild'] == 0) & (full_data['Group Survival'] >= 0) & (full_data['Family_size'] > 2)]\n",
    "\n",
    "plt.hist([to_plot[to_plot['Survived'] == 0]['Group Survival'], to_plot[to_plot['Survived'] == 1]['Group Survival']])"
   ]
  },
  {
   "cell_type": "code",
   "execution_count": 33,
   "metadata": {},
   "outputs": [
    {
     "data": {
      "text/plain": [
       "([array([94.,  0.,  1.,  7.,  0., 12.,  4.,  0.,  2., 52.]),\n",
       "  array([ 5.,  1.,  0.,  1.,  0.,  1.,  6.,  0.,  0., 19.])],\n",
       " array([0. , 0.1, 0.2, 0.3, 0.4, 0.5, 0.6, 0.7, 0.8, 0.9, 1. ]),\n",
       " <a list of 2 Lists of Patches objects>)"
      ]
     },
     "execution_count": 33,
     "metadata": {},
     "output_type": "execute_result"
    },
    {
     "data": {
      "image/png": "[encoded data removed]",
      "text/plain": [
       "<Figure size 432x288 with 1 Axes>"
      ]
     },
     "metadata": {},
     "output_type": "display_data"
    }
   ],
   "source": [
    "to_plot = full_data[(full_data['SexChild'] == 0) & (full_data['Group Survival'] >= 0)]\n",
    "\n",
    "plt.hist([to_plot[to_plot['Survived'] == 0]['Group Survival'], to_plot[to_plot['Survived'] == 1]['Group Survival']])"
   ]
  },
  {
   "cell_type": "code",
   "execution_count": 39,
   "metadata": {},
   "outputs": [
    {
     "data": {
      "text/html": [
       "<div>\n",
       "<style scoped>\n",
       "    .dataframe tbody tr th:only-of-type {\n",
       "        vertical-align: middle;\n",
       "    }\n",
       "\n",
       "    .dataframe tbody tr th {\n",
       "        vertical-align: top;\n",
       "    }\n",
       "\n",
       "    .dataframe thead th {\n",
       "        text-align: right;\n",
       "    }\n",
       "</style>\n",
       "<table border=\"1\" class=\"dataframe\">\n",
       "  <thead>\n",
       "    <tr style=\"text-align: right;\">\n",
       "      <th></th>\n",
       "      <th>Last Name</th>\n",
       "      <th>Ticket</th>\n",
       "    </tr>\n",
       "  </thead>\n",
       "  <tbody>\n",
       "    <tr>\n",
       "      <th>17</th>\n",
       "      <td>Williams</td>\n",
       "      <td>244373</td>\n",
       "    </tr>\n",
       "    <tr>\n",
       "      <th>207</th>\n",
       "      <td>Albimona</td>\n",
       "      <td>2699</td>\n",
       "    </tr>\n",
       "    <tr>\n",
       "      <th>271</th>\n",
       "      <td>Tornquist</td>\n",
       "      <td>LINE</td>\n",
       "    </tr>\n",
       "    <tr>\n",
       "      <th>572</th>\n",
       "      <td>Flynn</td>\n",
       "      <td>PC 17474</td>\n",
       "    </tr>\n",
       "    <tr>\n",
       "      <th>579</th>\n",
       "      <td>Jussila</td>\n",
       "      <td>STON/O 2. 3101286</td>\n",
       "    </tr>\n",
       "  </tbody>\n",
       "</table>\n",
       "</div>"
      ],
      "text/plain": [
       "     Last Name             Ticket\n",
       "17    Williams             244373\n",
       "207   Albimona               2699\n",
       "271  Tornquist               LINE\n",
       "572      Flynn           PC 17474\n",
       "579    Jussila  STON/O 2. 3101286"
      ]
     },
     "execution_count": 39,
     "metadata": {},
     "output_type": "execute_result"
    }
   ],
   "source": [
    "to_plot[(to_plot['Survived'] == 1) & (to_plot['Group Survival'] == 0)][['Last Name', 'Ticket']]"
   ]
  },
  {
   "cell_type": "code",
   "execution_count": 55,
   "metadata": {},
   "outputs": [
    {
     "data": {
      "text/html": [
       "<div>\n",
       "<style scoped>\n",
       "    .dataframe tbody tr th:only-of-type {\n",
       "        vertical-align: middle;\n",
       "    }\n",
       "\n",
       "    .dataframe tbody tr th {\n",
       "        vertical-align: top;\n",
       "    }\n",
       "\n",
       "    .dataframe thead th {\n",
       "        text-align: right;\n",
       "    }\n",
       "</style>\n",
       "<table border=\"1\" class=\"dataframe\">\n",
       "  <thead>\n",
       "    <tr style=\"text-align: right;\">\n",
       "      <th></th>\n",
       "      <th>PassengerId</th>\n",
       "      <th>Survived</th>\n",
       "      <th>Pclass</th>\n",
       "      <th>Name</th>\n",
       "      <th>Sex</th>\n",
       "      <th>Age</th>\n",
       "      <th>SibSp</th>\n",
       "      <th>Parch</th>\n",
       "      <th>Ticket</th>\n",
       "      <th>Fare</th>\n",
       "      <th>...</th>\n",
       "      <th>Fare_adj</th>\n",
       "      <th>M Survival</th>\n",
       "      <th>F Survival</th>\n",
       "      <th>C Survival</th>\n",
       "      <th>Family Survival</th>\n",
       "      <th>Ticket Survival</th>\n",
       "      <th>Group Survival</th>\n",
       "      <th>Family FC Survival</th>\n",
       "      <th>Ticket FC Survival</th>\n",
       "      <th>Group FC Survival</th>\n",
       "    </tr>\n",
       "  </thead>\n",
       "  <tbody>\n",
       "    <tr>\n",
       "      <th>207</th>\n",
       "      <td>208</td>\n",
       "      <td>1</td>\n",
       "      <td>3</td>\n",
       "      <td>Albimona, Mr. Nassef Cassem</td>\n",
       "      <td>male</td>\n",
       "      <td>26.0</td>\n",
       "      <td>0</td>\n",
       "      <td>0</td>\n",
       "      <td>2699</td>\n",
       "      <td>18.7875</td>\n",
       "      <td>...</td>\n",
       "      <td>9.39375</td>\n",
       "      <td>1.0</td>\n",
       "      <td>-1.0</td>\n",
       "      <td>-1.0</td>\n",
       "      <td>-1.0</td>\n",
       "      <td>0.0</td>\n",
       "      <td>0.0</td>\n",
       "      <td>-1.0</td>\n",
       "      <td>0.0</td>\n",
       "      <td>0.0</td>\n",
       "    </tr>\n",
       "  </tbody>\n",
       "</table>\n",
       "<p>1 rows × 32 columns</p>\n",
       "</div>"
      ],
      "text/plain": [
       "     PassengerId  Survived  Pclass                         Name   Sex   Age  \\\n",
       "207          208         1       3  Albimona, Mr. Nassef Cassem  male  26.0   \n",
       "\n",
       "     SibSp  Parch Ticket     Fare        ...         Fare_adj M Survival  \\\n",
       "207      0      0   2699  18.7875        ...          9.39375        1.0   \n",
       "\n",
       "    F Survival C Survival  Family Survival  Ticket Survival  Group Survival  \\\n",
       "207       -1.0       -1.0             -1.0              0.0             0.0   \n",
       "\n",
       "     Family FC Survival  Ticket FC Survival  Group FC Survival  \n",
       "207                -1.0                 0.0                0.0  \n",
       "\n",
       "[1 rows x 32 columns]"
      ]
     },
     "execution_count": 55,
     "metadata": {},
     "output_type": "execute_result"
    }
   ],
   "source": [
    "full_data[full_data['Last Name'] == 'Albimona']"
   ]
  },
  {
   "cell_type": "code",
   "execution_count": 56,
   "metadata": {},
   "outputs": [
    {
     "data": {
      "text/html": [
       "<div>\n",
       "<style scoped>\n",
       "    .dataframe tbody tr th:only-of-type {\n",
       "        vertical-align: middle;\n",
       "    }\n",
       "\n",
       "    .dataframe tbody tr th {\n",
       "        vertical-align: top;\n",
       "    }\n",
       "\n",
       "    .dataframe thead th {\n",
       "        text-align: right;\n",
       "    }\n",
       "</style>\n",
       "<table border=\"1\" class=\"dataframe\">\n",
       "  <thead>\n",
       "    <tr style=\"text-align: right;\">\n",
       "      <th></th>\n",
       "      <th>PassengerId</th>\n",
       "      <th>Survived</th>\n",
       "      <th>Pclass</th>\n",
       "      <th>Name</th>\n",
       "      <th>Sex</th>\n",
       "      <th>Age</th>\n",
       "      <th>SibSp</th>\n",
       "      <th>Parch</th>\n",
       "      <th>Ticket</th>\n",
       "      <th>Fare</th>\n",
       "      <th>...</th>\n",
       "      <th>Fare_adj</th>\n",
       "      <th>M Survival</th>\n",
       "      <th>F Survival</th>\n",
       "      <th>C Survival</th>\n",
       "      <th>Family Survival</th>\n",
       "      <th>Ticket Survival</th>\n",
       "      <th>Group Survival</th>\n",
       "      <th>Family FC Survival</th>\n",
       "      <th>Ticket FC Survival</th>\n",
       "      <th>Group FC Survival</th>\n",
       "    </tr>\n",
       "  </thead>\n",
       "  <tbody>\n",
       "    <tr>\n",
       "      <th>207</th>\n",
       "      <td>208</td>\n",
       "      <td>1</td>\n",
       "      <td>3</td>\n",
       "      <td>Albimona, Mr. Nassef Cassem</td>\n",
       "      <td>male</td>\n",
       "      <td>26.0</td>\n",
       "      <td>0</td>\n",
       "      <td>0</td>\n",
       "      <td>2699</td>\n",
       "      <td>18.7875</td>\n",
       "      <td>...</td>\n",
       "      <td>9.39375</td>\n",
       "      <td>1.0</td>\n",
       "      <td>-1.0</td>\n",
       "      <td>-1.0</td>\n",
       "      <td>-1.0</td>\n",
       "      <td>0.0</td>\n",
       "      <td>0.0</td>\n",
       "      <td>-1.0</td>\n",
       "      <td>0.0</td>\n",
       "      <td>0.0</td>\n",
       "    </tr>\n",
       "    <tr>\n",
       "      <th>731</th>\n",
       "      <td>732</td>\n",
       "      <td>0</td>\n",
       "      <td>3</td>\n",
       "      <td>Hassan, Mr. Houssein G N</td>\n",
       "      <td>male</td>\n",
       "      <td>11.0</td>\n",
       "      <td>0</td>\n",
       "      <td>0</td>\n",
       "      <td>2699</td>\n",
       "      <td>18.7875</td>\n",
       "      <td>...</td>\n",
       "      <td>9.39375</td>\n",
       "      <td>-1.0</td>\n",
       "      <td>-1.0</td>\n",
       "      <td>0.0</td>\n",
       "      <td>-1.0</td>\n",
       "      <td>1.0</td>\n",
       "      <td>1.0</td>\n",
       "      <td>-1.0</td>\n",
       "      <td>-1.0</td>\n",
       "      <td>-1.0</td>\n",
       "    </tr>\n",
       "  </tbody>\n",
       "</table>\n",
       "<p>2 rows × 32 columns</p>\n",
       "</div>"
      ],
      "text/plain": [
       "     PassengerId  Survived  Pclass                         Name   Sex   Age  \\\n",
       "207          208         1       3  Albimona, Mr. Nassef Cassem  male  26.0   \n",
       "731          732         0       3     Hassan, Mr. Houssein G N  male  11.0   \n",
       "\n",
       "     SibSp  Parch Ticket     Fare        ...         Fare_adj M Survival  \\\n",
       "207      0      0   2699  18.7875        ...          9.39375        1.0   \n",
       "731      0      0   2699  18.7875        ...          9.39375       -1.0   \n",
       "\n",
       "    F Survival C Survival  Family Survival  Ticket Survival  Group Survival  \\\n",
       "207       -1.0       -1.0             -1.0              0.0             0.0   \n",
       "731       -1.0        0.0             -1.0              1.0             1.0   \n",
       "\n",
       "     Family FC Survival  Ticket FC Survival  Group FC Survival  \n",
       "207                -1.0                 0.0                0.0  \n",
       "731                -1.0                -1.0               -1.0  \n",
       "\n",
       "[2 rows x 32 columns]"
      ]
     },
     "execution_count": 56,
     "metadata": {},
     "output_type": "execute_result"
    }
   ],
   "source": [
    "full_data[full_data['Ticket'] == '2699']"
   ]
  },
  {
   "cell_type": "code",
   "execution_count": 61,
   "metadata": {},
   "outputs": [],
   "source": [
    "def get_family_fc_survival(passId, last_name):\n",
    "    group = full_data[(full_data['Last Name'] == last_name) \n",
    "                      & (full_data['PassengerId'] != passId) \n",
    "                      & (full_data['SexChild'] > 0)]\n",
    "    group = group[(group['Survived'] >= 0)]\n",
    "    if group.shape[0] == 0:\n",
    "        return -1\n",
    "    else:\n",
    "        return group['Survived'].mean()\n",
    "    \n",
    "def get_ticket_fc_survival(passId, ticket):\n",
    "    group = full_data[(full_data['Ticket'] == ticket) \n",
    "                      & (full_data['PassengerId'] != passId) \n",
    "                      & (full_data['SexChild'] > 0)]\n",
    "    group = group[(group['Survived'] >= 0)]\n",
    "    if group.shape[0] == 0:\n",
    "        return -1\n",
    "    else:\n",
    "        return group['Survived'].mean()"
   ]
  },
  {
   "cell_type": "code",
   "execution_count": 50,
   "metadata": {},
   "outputs": [],
   "source": [
    "full_data['Family FC Survival'] = full_data[['PassengerId', 'Last Name']].apply(\n",
    "    lambda row: get_family_fc_survival(row['PassengerId'], row['Last Name']), axis=1)\n",
    "full_data['Ticket FC Survival'] = full_data[['PassengerId', 'Ticket']].apply(\n",
    "    lambda row: get_ticket_fc_survival(row['PassengerId'], row['Ticket']), axis=1)"
   ]
  },
  {
   "cell_type": "code",
   "execution_count": 51,
   "metadata": {},
   "outputs": [],
   "source": [
    "full_data['Group FC Survival'] = full_data[['Family FC Survival', 'Ticket FC Survival']].apply(max, axis=1)"
   ]
  },
  {
   "cell_type": "code",
   "execution_count": 52,
   "metadata": {},
   "outputs": [
    {
     "data": {
      "text/plain": [
       "([array([94.,  0.,  1.,  7.,  0., 12.,  4.,  0.,  2., 52.]),\n",
       "  array([ 5.,  1.,  0.,  1.,  0.,  1.,  6.,  0.,  0., 19.])],\n",
       " array([0. , 0.1, 0.2, 0.3, 0.4, 0.5, 0.6, 0.7, 0.8, 0.9, 1. ]),\n",
       " <a list of 2 Lists of Patches objects>)"
      ]
     },
     "execution_count": 52,
     "metadata": {},
     "output_type": "execute_result"
    },
    {
     "data": {
      "image/png": "[encoded data removed]",
      "text/plain": [
       "<Figure size 432x288 with 1 Axes>"
      ]
     },
     "metadata": {},
     "output_type": "display_data"
    }
   ],
   "source": [
    "to_plot = full_data[(full_data['SexChild'] == 0) & (full_data['Group Survival'] >= 0)]\n",
    "\n",
    "plt.hist([to_plot[to_plot['Survived'] == 0]['Group Survival'], to_plot[to_plot['Survived'] == 1]['Group Survival']])"
   ]
  },
  {
   "cell_type": "code",
   "execution_count": 53,
   "metadata": {},
   "outputs": [
    {
     "data": {
      "text/plain": [
       "([array([27.,  1.,  0.,  0.,  0.,  0.,  0.,  1.,  0., 68.]),\n",
       "  array([ 2.,  1.,  0.,  0.,  0.,  0.,  0.,  0.,  0., 20.])],\n",
       " array([0. , 0.1, 0.2, 0.3, 0.4, 0.5, 0.6, 0.7, 0.8, 0.9, 1. ]),\n",
       " <a list of 2 Lists of Patches objects>)"
      ]
     },
     "execution_count": 53,
     "metadata": {},
     "output_type": "execute_result"
    },
    {
     "data": {
      "image/png": "[encoded data removed]",
      "text/plain": [
       "<Figure size 432x288 with 1 Axes>"
      ]
     },
     "metadata": {},
     "output_type": "display_data"
    }
   ],
   "source": [
    "to_plot = full_data[(full_data['SexChild'] == 0) & (full_data['Group FC Survival'] >= 0)]\n",
    "\n",
    "plt.hist([to_plot[to_plot['Survived'] == 0]['Group FC Survival'], to_plot[to_plot['Survived'] == 1]['Group FC Survival']])"
   ]
  },
  {
   "cell_type": "code",
   "execution_count": 54,
   "metadata": {},
   "outputs": [
    {
     "data": {
      "text/html": [
       "<div>\n",
       "<style scoped>\n",
       "    .dataframe tbody tr th:only-of-type {\n",
       "        vertical-align: middle;\n",
       "    }\n",
       "\n",
       "    .dataframe tbody tr th {\n",
       "        vertical-align: top;\n",
       "    }\n",
       "\n",
       "    .dataframe thead th {\n",
       "        text-align: right;\n",
       "    }\n",
       "</style>\n",
       "<table border=\"1\" class=\"dataframe\">\n",
       "  <thead>\n",
       "    <tr style=\"text-align: right;\">\n",
       "      <th></th>\n",
       "      <th>Last Name</th>\n",
       "      <th>Ticket</th>\n",
       "    </tr>\n",
       "  </thead>\n",
       "  <tbody>\n",
       "    <tr>\n",
       "      <th>207</th>\n",
       "      <td>Albimona</td>\n",
       "      <td>2699</td>\n",
       "    </tr>\n",
       "    <tr>\n",
       "      <th>579</th>\n",
       "      <td>Jussila</td>\n",
       "      <td>STON/O 2. 3101286</td>\n",
       "    </tr>\n",
       "  </tbody>\n",
       "</table>\n",
       "</div>"
      ],
      "text/plain": [
       "    Last Name             Ticket\n",
       "207  Albimona               2699\n",
       "579   Jussila  STON/O 2. 3101286"
      ]
     },
     "execution_count": 54,
     "metadata": {},
     "output_type": "execute_result"
    }
   ],
   "source": [
    "to_plot[(to_plot['Survived'] == 1) & (to_plot['Group FC Survival'] == 0)][['Last Name', 'Ticket']]"
   ]
  },
  {
   "cell_type": "code",
   "execution_count": null,
   "metadata": {},
   "outputs": [],
   "source": []
  }
 ],
 "metadata": {
  "kernelspec": {
   "display_name": "Python 3",
   "language": "python",
   "name": "python3"
  },
  "language_info": {
   "codemirror_mode": {
    "name": "ipython",
    "version": 3
   },
   "file_extension": ".py",
   "mimetype": "text/x-python",
   "name": "python",
   "nbconvert_exporter": "python",
   "pygments_lexer": "ipython3",
   "version": "3.6.5"
  }
 },
 "nbformat": 4,
 "nbformat_minor": 2
}
