{
 "cells": [
  {
   "cell_type": "code",
   "execution_count": 1,
   "metadata": {},
   "outputs": [],
   "source": [
    "import numpy as np\n",
    "import pandas as pd\n",
    "import matplotlib.pyplot as plt\n",
    "%matplotlib inline\n",
    "import seaborn as sns\n",
    "import copy\n",
    "import math\n",
    "import random\n",
    "import time\n",
    "import graphviz\n",
    "from sklearn.model_selection import train_test_split\n",
    "from sklearn.tree import DecisionTreeClassifier\n",
    "from sklearn.tree import export_graphviz\n",
    "from sklearn.ensemble import RandomForestClassifier\n",
    "from sklearn.model_selection import GridSearchCV\n",
    "from sklearn.metrics import accuracy_score\n",
    "from sklearn.neighbors import KNeighborsClassifier"
   ]
  },
  {
   "cell_type": "code",
   "execution_count": 2,
   "metadata": {},
   "outputs": [
    {
     "data": {
      "text/plain": [
       "((623, 9), (268, 9))"
      ]
     },
     "execution_count": 2,
     "metadata": {},
     "output_type": "execute_result"
    }
   ],
   "source": [
    "data = pd.read_csv('train_clean.csv', index_col=0)\n",
    "y = data['Survived'].copy()\n",
    "X = data.drop(['PassengerId', 'Survived', 'Name'], axis=1)\n",
    "X_train, X_test, y_train, y_test = train_test_split(X, y, test_size=0.3, stratify=y, random_state=111)\n",
    "X_train.shape, X_test.shape"
   ]
  },
  {
   "cell_type": "code",
   "execution_count": 3,
   "metadata": {},
   "outputs": [
    {
     "data": {
      "text/html": [
       "<div>\n",
       "<style scoped>\n",
       "    .dataframe tbody tr th:only-of-type {\n",
       "        vertical-align: middle;\n",
       "    }\n",
       "\n",
       "    .dataframe tbody tr th {\n",
       "        vertical-align: top;\n",
       "    }\n",
       "\n",
       "    .dataframe thead th {\n",
       "        text-align: right;\n",
       "    }\n",
       "</style>\n",
       "<table border=\"1\" class=\"dataframe\">\n",
       "  <thead>\n",
       "    <tr style=\"text-align: right;\">\n",
       "      <th></th>\n",
       "      <th>Pclass</th>\n",
       "      <th>Sex</th>\n",
       "      <th>Age</th>\n",
       "      <th>SibSp</th>\n",
       "      <th>Parch</th>\n",
       "      <th>Ticket</th>\n",
       "      <th>Fare</th>\n",
       "      <th>Cabin</th>\n",
       "      <th>Embarked</th>\n",
       "    </tr>\n",
       "  </thead>\n",
       "  <tbody>\n",
       "    <tr>\n",
       "      <th>680</th>\n",
       "      <td>3</td>\n",
       "      <td>female</td>\n",
       "      <td>0.0</td>\n",
       "      <td>0</td>\n",
       "      <td>0</td>\n",
       "      <td>330935</td>\n",
       "      <td>8.1375</td>\n",
       "      <td>Unknown</td>\n",
       "      <td>Q</td>\n",
       "    </tr>\n",
       "    <tr>\n",
       "      <th>810</th>\n",
       "      <td>3</td>\n",
       "      <td>male</td>\n",
       "      <td>26.0</td>\n",
       "      <td>0</td>\n",
       "      <td>0</td>\n",
       "      <td>3474</td>\n",
       "      <td>7.8875</td>\n",
       "      <td>Unknown</td>\n",
       "      <td>S</td>\n",
       "    </tr>\n",
       "    <tr>\n",
       "      <th>727</th>\n",
       "      <td>3</td>\n",
       "      <td>female</td>\n",
       "      <td>0.0</td>\n",
       "      <td>0</td>\n",
       "      <td>0</td>\n",
       "      <td>36866</td>\n",
       "      <td>7.7375</td>\n",
       "      <td>Unknown</td>\n",
       "      <td>Q</td>\n",
       "    </tr>\n",
       "    <tr>\n",
       "      <th>775</th>\n",
       "      <td>3</td>\n",
       "      <td>male</td>\n",
       "      <td>18.0</td>\n",
       "      <td>0</td>\n",
       "      <td>0</td>\n",
       "      <td>347078</td>\n",
       "      <td>7.7500</td>\n",
       "      <td>Unknown</td>\n",
       "      <td>S</td>\n",
       "    </tr>\n",
       "    <tr>\n",
       "      <th>795</th>\n",
       "      <td>2</td>\n",
       "      <td>male</td>\n",
       "      <td>39.0</td>\n",
       "      <td>0</td>\n",
       "      <td>0</td>\n",
       "      <td>28213</td>\n",
       "      <td>13.0000</td>\n",
       "      <td>Unknown</td>\n",
       "      <td>S</td>\n",
       "    </tr>\n",
       "  </tbody>\n",
       "</table>\n",
       "</div>"
      ],
      "text/plain": [
       "     Pclass     Sex   Age  SibSp  Parch  Ticket     Fare    Cabin Embarked\n",
       "680       3  female   0.0      0      0  330935   8.1375  Unknown        Q\n",
       "810       3    male  26.0      0      0    3474   7.8875  Unknown        S\n",
       "727       3  female   0.0      0      0   36866   7.7375  Unknown        Q\n",
       "775       3    male  18.0      0      0  347078   7.7500  Unknown        S\n",
       "795       2    male  39.0      0      0   28213  13.0000  Unknown        S"
      ]
     },
     "execution_count": 3,
     "metadata": {},
     "output_type": "execute_result"
    }
   ],
   "source": [
    "X_train.head()"
   ]
  },
  {
   "cell_type": "code",
   "execution_count": 4,
   "metadata": {},
   "outputs": [],
   "source": [
    "def safeLog(x):\n",
    "    if x == 0:\n",
    "        return math.log(0.1)\n",
    "    else:\n",
    "        return math.log(x)"
   ]
  },
  {
   "cell_type": "code",
   "execution_count": 5,
   "metadata": {},
   "outputs": [
    {
     "data": {
      "text/plain": [
       "71.0"
      ]
     },
     "execution_count": 5,
     "metadata": {},
     "output_type": "execute_result"
    }
   ],
   "source": [
    "X_train['Age'].max()"
   ]
  },
  {
   "cell_type": "code",
   "execution_count": 6,
   "metadata": {},
   "outputs": [],
   "source": [
    "def metric1(x1, x2, params):\n",
    "    distance = 0\n",
    "    #Pclass\n",
    "    distance += abs(x1[0] - x2[0])/ 2\n",
    "    #Sex\n",
    "    distance += (x1[1] != x2[1]) * params[0]\n",
    "    #Age\n",
    "    if (x1[2] * x2[2] == 0) & (x1[2] != x2[2]):\n",
    "        distance += params[1]\n",
    "    else:\n",
    "        distance += (abs(x1[2] - x2[2])/71.0) \n",
    "    #SibSp\n",
    "    if x1[3] == x2[3]:\n",
    "        pass\n",
    "    elif x1[3] * x2[3] == 0:\n",
    "        distance += 1\n",
    "    else:\n",
    "        distance += 0.75\n",
    "    #Parch\n",
    "    if x1[4] == x2[4]:\n",
    "        pass\n",
    "    elif x1[4] * x2[4] == 0:\n",
    "        distance += 1\n",
    "    else:\n",
    "        distance += abs(x1[4] - x2[4]) / params[2]\n",
    "    #Ticket\n",
    "    distance += (x1[5] != x2[5]) \n",
    "    #Fare\n",
    "    distance += abs(safeLog(x1[6] + 1) - safeLog(x2[6] + 1))/params[3]\n",
    "    #Cabin\n",
    "    if (x1[7] != x2[7]):\n",
    "        distance += 1\n",
    "    elif x1[7] == 0:\n",
    "        distance += 0.3\n",
    "    #Embarked\n",
    "    distance += (x1[5] != x2[5])/100.0\n",
    "    return distance\n",
    "    "
   ]
  },
  {
   "cell_type": "code",
   "execution_count": 7,
   "metadata": {},
   "outputs": [
    {
     "data": {
      "text/html": [
       "<div>\n",
       "<style scoped>\n",
       "    .dataframe tbody tr th:only-of-type {\n",
       "        vertical-align: middle;\n",
       "    }\n",
       "\n",
       "    .dataframe tbody tr th {\n",
       "        vertical-align: top;\n",
       "    }\n",
       "\n",
       "    .dataframe thead th {\n",
       "        text-align: right;\n",
       "    }\n",
       "</style>\n",
       "<table border=\"1\" class=\"dataframe\">\n",
       "  <thead>\n",
       "    <tr style=\"text-align: right;\">\n",
       "      <th></th>\n",
       "      <th>Pclass</th>\n",
       "      <th>Sex</th>\n",
       "      <th>Age</th>\n",
       "      <th>SibSp</th>\n",
       "      <th>Parch</th>\n",
       "      <th>Ticket</th>\n",
       "      <th>Fare</th>\n",
       "      <th>Cabin</th>\n",
       "      <th>Embarked</th>\n",
       "    </tr>\n",
       "  </thead>\n",
       "  <tbody>\n",
       "    <tr>\n",
       "      <th>437</th>\n",
       "      <td>2</td>\n",
       "      <td>female</td>\n",
       "      <td>24.0</td>\n",
       "      <td>2</td>\n",
       "      <td>3</td>\n",
       "      <td>29106</td>\n",
       "      <td>18.7500</td>\n",
       "      <td>Unknown</td>\n",
       "      <td>S</td>\n",
       "    </tr>\n",
       "    <tr>\n",
       "      <th>36</th>\n",
       "      <td>3</td>\n",
       "      <td>male</td>\n",
       "      <td>0.0</td>\n",
       "      <td>0</td>\n",
       "      <td>0</td>\n",
       "      <td>2677</td>\n",
       "      <td>7.2292</td>\n",
       "      <td>Unknown</td>\n",
       "      <td>C</td>\n",
       "    </tr>\n",
       "    <tr>\n",
       "      <th>692</th>\n",
       "      <td>3</td>\n",
       "      <td>male</td>\n",
       "      <td>0.0</td>\n",
       "      <td>0</td>\n",
       "      <td>0</td>\n",
       "      <td>1601</td>\n",
       "      <td>56.4958</td>\n",
       "      <td>Unknown</td>\n",
       "      <td>S</td>\n",
       "    </tr>\n",
       "    <tr>\n",
       "      <th>215</th>\n",
       "      <td>1</td>\n",
       "      <td>female</td>\n",
       "      <td>31.0</td>\n",
       "      <td>1</td>\n",
       "      <td>0</td>\n",
       "      <td>35273</td>\n",
       "      <td>113.2750</td>\n",
       "      <td>D36</td>\n",
       "      <td>C</td>\n",
       "    </tr>\n",
       "    <tr>\n",
       "      <th>809</th>\n",
       "      <td>1</td>\n",
       "      <td>female</td>\n",
       "      <td>33.0</td>\n",
       "      <td>1</td>\n",
       "      <td>0</td>\n",
       "      <td>113806</td>\n",
       "      <td>53.1000</td>\n",
       "      <td>E8</td>\n",
       "      <td>S</td>\n",
       "    </tr>\n",
       "  </tbody>\n",
       "</table>\n",
       "</div>"
      ],
      "text/plain": [
       "     Pclass     Sex   Age  SibSp  Parch  Ticket      Fare    Cabin Embarked\n",
       "437       2  female  24.0      2      3   29106   18.7500  Unknown        S\n",
       "36        3    male   0.0      0      0    2677    7.2292  Unknown        C\n",
       "692       3    male   0.0      0      0    1601   56.4958  Unknown        S\n",
       "215       1  female  31.0      1      0   35273  113.2750      D36        C\n",
       "809       1  female  33.0      1      0  113806   53.1000       E8        S"
      ]
     },
     "execution_count": 7,
     "metadata": {},
     "output_type": "execute_result"
    }
   ],
   "source": [
    "X_train.tail(5)"
   ]
  },
  {
   "cell_type": "code",
   "execution_count": 8,
   "metadata": {},
   "outputs": [],
   "source": [
    "def cabinToNumber(cabin):\n",
    "    if cabin == 'Unknown':\n",
    "        return 0\n",
    "    else:\n",
    "        return hash(cabin)\n",
    "\n",
    "def toNumbers(data):\n",
    "    X = data.copy()\n",
    "    X['Sex'] = X['Sex'] == 'female'\n",
    "    X['Ticket'] = X['Ticket'].apply(hash)\n",
    "    X['Cabin'] = X['Cabin'].apply(cabinToNumber)\n",
    "    X['Embarked'] = X['Embarked'].apply(ord)\n",
    "    return X\n",
    "    "
   ]
  },
  {
   "cell_type": "code",
   "execution_count": 9,
   "metadata": {},
   "outputs": [
    {
     "data": {
      "text/html": [
       "<div>\n",
       "<style scoped>\n",
       "    .dataframe tbody tr th:only-of-type {\n",
       "        vertical-align: middle;\n",
       "    }\n",
       "\n",
       "    .dataframe tbody tr th {\n",
       "        vertical-align: top;\n",
       "    }\n",
       "\n",
       "    .dataframe thead th {\n",
       "        text-align: right;\n",
       "    }\n",
       "</style>\n",
       "<table border=\"1\" class=\"dataframe\">\n",
       "  <thead>\n",
       "    <tr style=\"text-align: right;\">\n",
       "      <th></th>\n",
       "      <th>Pclass</th>\n",
       "      <th>Sex</th>\n",
       "      <th>Age</th>\n",
       "      <th>SibSp</th>\n",
       "      <th>Parch</th>\n",
       "      <th>Ticket</th>\n",
       "      <th>Fare</th>\n",
       "      <th>Cabin</th>\n",
       "      <th>Embarked</th>\n",
       "    </tr>\n",
       "  </thead>\n",
       "  <tbody>\n",
       "    <tr>\n",
       "      <th>437</th>\n",
       "      <td>2</td>\n",
       "      <td>True</td>\n",
       "      <td>24.0</td>\n",
       "      <td>2</td>\n",
       "      <td>3</td>\n",
       "      <td>-2970430104413268998</td>\n",
       "      <td>18.7500</td>\n",
       "      <td>0</td>\n",
       "      <td>83</td>\n",
       "    </tr>\n",
       "    <tr>\n",
       "      <th>36</th>\n",
       "      <td>3</td>\n",
       "      <td>False</td>\n",
       "      <td>0.0</td>\n",
       "      <td>0</td>\n",
       "      <td>0</td>\n",
       "      <td>-1746458670856982784</td>\n",
       "      <td>7.2292</td>\n",
       "      <td>0</td>\n",
       "      <td>67</td>\n",
       "    </tr>\n",
       "    <tr>\n",
       "      <th>692</th>\n",
       "      <td>3</td>\n",
       "      <td>False</td>\n",
       "      <td>0.0</td>\n",
       "      <td>0</td>\n",
       "      <td>0</td>\n",
       "      <td>7778026337302558711</td>\n",
       "      <td>56.4958</td>\n",
       "      <td>0</td>\n",
       "      <td>83</td>\n",
       "    </tr>\n",
       "    <tr>\n",
       "      <th>215</th>\n",
       "      <td>1</td>\n",
       "      <td>True</td>\n",
       "      <td>31.0</td>\n",
       "      <td>1</td>\n",
       "      <td>0</td>\n",
       "      <td>-4898068235282573226</td>\n",
       "      <td>113.2750</td>\n",
       "      <td>1268327419948972662</td>\n",
       "      <td>67</td>\n",
       "    </tr>\n",
       "    <tr>\n",
       "      <th>809</th>\n",
       "      <td>1</td>\n",
       "      <td>True</td>\n",
       "      <td>33.0</td>\n",
       "      <td>1</td>\n",
       "      <td>0</td>\n",
       "      <td>8856170076678879044</td>\n",
       "      <td>53.1000</td>\n",
       "      <td>5180337183469384872</td>\n",
       "      <td>83</td>\n",
       "    </tr>\n",
       "  </tbody>\n",
       "</table>\n",
       "</div>"
      ],
      "text/plain": [
       "     Pclass    Sex   Age  SibSp  Parch               Ticket      Fare  \\\n",
       "437       2   True  24.0      2      3 -2970430104413268998   18.7500   \n",
       "36        3  False   0.0      0      0 -1746458670856982784    7.2292   \n",
       "692       3  False   0.0      0      0  7778026337302558711   56.4958   \n",
       "215       1   True  31.0      1      0 -4898068235282573226  113.2750   \n",
       "809       1   True  33.0      1      0  8856170076678879044   53.1000   \n",
       "\n",
       "                   Cabin  Embarked  \n",
       "437                    0        83  \n",
       "36                     0        67  \n",
       "692                    0        83  \n",
       "215  1268327419948972662        67  \n",
       "809  5180337183469384872        83  "
      ]
     },
     "execution_count": 9,
     "metadata": {},
     "output_type": "execute_result"
    }
   ],
   "source": [
    "X1_train = toNumbers(X_train)\n",
    "X1_test = toNumbers(X_test)\n",
    "X1_train.tail()"
   ]
  },
  {
   "cell_type": "code",
   "execution_count": 10,
   "metadata": {},
   "outputs": [
    {
     "data": {
      "text/plain": [
       "0.8134328358208955"
      ]
     },
     "execution_count": 10,
     "metadata": {},
     "output_type": "execute_result"
    }
   ],
   "source": [
    "clf = KNeighborsClassifier(n_neighbors=9, algorithm='brute', metric=lambda a,b: metric1(a,b,[5.0, 0.1, 10.0, 3.0]))\n",
    "clf.fit(X1_train, y_train)\n",
    "clf.score(X1_test, y_test)"
   ]
  },
  {
   "cell_type": "code",
   "execution_count": 11,
   "metadata": {},
   "outputs": [],
   "source": [
    "y_pred = clf.predict(X1_test)"
   ]
  },
  {
   "cell_type": "code",
   "execution_count": 12,
   "metadata": {},
   "outputs": [
    {
     "data": {
      "text/plain": [
       "array([[0.88888889, 0.11111111],\n",
       "       [0.88888889, 0.11111111],\n",
       "       [0.44444444, 0.55555556],\n",
       "       [1.        , 0.        ],\n",
       "       [0.        , 1.        ]])"
      ]
     },
     "execution_count": 12,
     "metadata": {},
     "output_type": "execute_result"
    }
   ],
   "source": [
    "y_proba = clf.predict_proba(X1_test)\n",
    "y_proba[:5]"
   ]
  },
  {
   "cell_type": "code",
   "execution_count": 13,
   "metadata": {},
   "outputs": [],
   "source": [
    "metricParams = []\n",
    "for a in range(5,6):\n",
    "    for b in [0.1]:\n",
    "        for c in range(10,12,5):\n",
    "            for d in range(3, 4):\n",
    "                metricParams.append(lambda x1,x2: metric1(x1, x2, [a, b, c, d]))"
   ]
  },
  {
   "cell_type": "code",
   "execution_count": 14,
   "metadata": {},
   "outputs": [
    {
     "name": "stdout",
     "output_type": "stream",
     "text": [
      "0.795 (+/-0.065) for {'metric': <function <lambda> at 0x10ea1c488>, 'n_neighbors': 9, 'weights': 'uniform'}\n",
      "0.804 (+/-0.058) for {'metric': <function <lambda> at 0x10ea1c488>, 'n_neighbors': 9, 'weights': 'distance'}\n",
      "0.803 (+/-0.061) for {'metric': <function <lambda> at 0x10ea1c488>, 'n_neighbors': 10, 'weights': 'uniform'}\n",
      "0.801 (+/-0.079) for {'metric': <function <lambda> at 0x10ea1c488>, 'n_neighbors': 10, 'weights': 'distance'}\n",
      "0.801 (+/-0.077) for {'metric': <function <lambda> at 0x10ea1c488>, 'n_neighbors': 11, 'weights': 'uniform'}\n",
      "0.811 (+/-0.075) for {'metric': <function <lambda> at 0x10ea1c488>, 'n_neighbors': 11, 'weights': 'distance'}\n",
      "0.799 (+/-0.082) for {'metric': <function <lambda> at 0x10ea1c488>, 'n_neighbors': 12, 'weights': 'uniform'}\n",
      "0.803 (+/-0.072) for {'metric': <function <lambda> at 0x10ea1c488>, 'n_neighbors': 12, 'weights': 'distance'}\n",
      "0.799 (+/-0.086) for {'metric': <function <lambda> at 0x10ea1c488>, 'n_neighbors': 13, 'weights': 'uniform'}\n",
      "0.804 (+/-0.086) for {'metric': <function <lambda> at 0x10ea1c488>, 'n_neighbors': 13, 'weights': 'distance'}\n",
      "0.803 (+/-0.088) for {'metric': <function <lambda> at 0x10ea1c488>, 'n_neighbors': 14, 'weights': 'uniform'}\n",
      "0.799 (+/-0.084) for {'metric': <function <lambda> at 0x10ea1c488>, 'n_neighbors': 14, 'weights': 'distance'}\n",
      "Best parameters: {'metric': <function <lambda> at 0x10ea1c488>, 'n_neighbors': 11, 'weights': 'distance'}\n",
      "0.8105939004815409 0.7985074626865671\n",
      "time spent: 5.70 minutes\n"
     ]
    }
   ],
   "source": [
    "start = time.clock()\n",
    "knn = KNeighborsClassifier(algorithm='brute')\n",
    "parameters ={'n_neighbors': range(9,15), 'weights': ['uniform', 'distance'], 'metric': metricParams}\n",
    "clf1 = GridSearchCV(knn, parameters, cv=5)\n",
    "clf1.fit(X1_train, y_train)\n",
    "means = clf1.cv_results_['mean_test_score']\n",
    "stds = clf1.cv_results_['std_test_score']\n",
    "for mean, std, params in zip(means, stds, clf1.cv_results_['params']):\n",
    "    print(\"%0.3f (+/-%0.03f) for %r\" % (mean, std * 2, params))\n",
    "print('Best parameters:', clf1.best_params_)\n",
    "print(clf1.best_score_, accuracy_score(y_test, clf1.predict(X1_test)))\n",
    "print('time spent: %.2f minutes' % ((time.clock() - start)/60))"
   ]
  },
  {
   "cell_type": "code",
   "execution_count": 15,
   "metadata": {},
   "outputs": [
    {
     "data": {
      "text/plain": [
       "numpy.ndarray"
      ]
     },
     "execution_count": 15,
     "metadata": {},
     "output_type": "execute_result"
    }
   ],
   "source": [
    "knn_proba = clf1.predict_proba(X1_test)\n",
    "type(knn_proba)"
   ]
  },
  {
   "cell_type": "code",
   "execution_count": 16,
   "metadata": {},
   "outputs": [
    {
     "data": {
      "text/plain": [
       "array([[0.91112552, 0.08887448],\n",
       "       [0.8171034 , 0.1828966 ],\n",
       "       [0.44709103, 0.55290897],\n",
       "       [1.        , 0.        ],\n",
       "       [0.        , 1.        ]])"
      ]
     },
     "execution_count": 16,
     "metadata": {},
     "output_type": "execute_result"
    }
   ],
   "source": [
    "knn_proba[:5]"
   ]
  },
  {
   "cell_type": "markdown",
   "metadata": {},
   "source": [
    "## Different metric "
   ]
  },
  {
   "cell_type": "code",
   "execution_count": 17,
   "metadata": {},
   "outputs": [],
   "source": [
    "def metric2(x1, x2, params):\n",
    "    distance = 0\n",
    "    #Pclass\n",
    "    distance += abs(x1[0] - x2[0])/ 2\n",
    "    #Sex\n",
    "    distance += (x1[1] != x2[1]) * params[0]\n",
    "    #Age\n",
    "    if (x1[2] * x2[2] == 0) & (x1[2] != x2[2]):\n",
    "        distance += params[1]\n",
    "    else:\n",
    "        distance += (abs(x1[2] - x2[2])/71.0) \n",
    "    #ifChild\n",
    "    if (((x1[2] > 0) & (x1[2] < 11)) & ((x2[2] == 0) | (x2[2] >= 11)) | \n",
    "       ((x2[2] > 0) & (x2[2] < 11)) & ((x1[2] == 0) | (x1[2] >= 11))):\n",
    "        distance += 3\n",
    "    \n",
    "    #SibSp\n",
    "    if x1[3] == x2[3]:\n",
    "        pass\n",
    "    elif x1[3] * x2[3] == 0:\n",
    "        distance += 1\n",
    "    else:\n",
    "        distance += 0.75\n",
    "    #Parch\n",
    "    if x1[4] == x2[4]:\n",
    "        pass\n",
    "    elif x1[4] * x2[4] == 0:\n",
    "        distance += 1\n",
    "    else:\n",
    "        distance += abs(x1[4] - x2[4]) / params[2]\n",
    "    #Ticket\n",
    "    distance += (x1[5] != x2[5]) \n",
    "    #Fare\n",
    "    distance += abs(safeLog(x1[6] + 1) - safeLog(x2[6] + 1))/params[3]\n",
    "    #Cabin\n",
    "    if (x1[7] != x2[7]):\n",
    "        distance += 1\n",
    "    elif x1[7] == 0:\n",
    "        distance += 0.3\n",
    "    #Embarked\n",
    "    #distance += (x1[5] != x2[5])/100.0\n",
    "    return distance"
   ]
  },
  {
   "cell_type": "code",
   "execution_count": 18,
   "metadata": {},
   "outputs": [
    {
     "data": {
      "text/plain": [
       "0.7947761194029851"
      ]
     },
     "execution_count": 18,
     "metadata": {},
     "output_type": "execute_result"
    }
   ],
   "source": [
    "clf2 = KNeighborsClassifier(n_neighbors=11, weights='distance', algorithm='brute', metric=lambda a,b: metric2(a,b,[5.0, 0.1, 10.0, 3.0]))\n",
    "clf2.fit(X1_train, y_train)\n",
    "clf2.score(X1_test, y_test)"
   ]
  },
  {
   "cell_type": "code",
   "execution_count": 35,
   "metadata": {},
   "outputs": [
    {
     "name": "stdout",
     "output_type": "stream",
     "text": [
      "0.809 (+/-0.071) for {'n_neighbors': 9, 'weights': 'uniform'}\n",
      "0.815 (+/-0.060) for {'n_neighbors': 9, 'weights': 'distance'}\n",
      "0.814 (+/-0.087) for {'n_neighbors': 10, 'weights': 'uniform'}\n",
      "0.820 (+/-0.079) for {'n_neighbors': 10, 'weights': 'distance'}\n",
      "0.806 (+/-0.078) for {'n_neighbors': 11, 'weights': 'uniform'}\n",
      "0.822 (+/-0.073) for {'n_neighbors': 11, 'weights': 'distance'}\n",
      "0.804 (+/-0.078) for {'n_neighbors': 12, 'weights': 'uniform'}\n",
      "0.809 (+/-0.093) for {'n_neighbors': 12, 'weights': 'distance'}\n",
      "0.799 (+/-0.076) for {'n_neighbors': 13, 'weights': 'uniform'}\n",
      "0.815 (+/-0.067) for {'n_neighbors': 13, 'weights': 'distance'}\n",
      "Best parameters: {'n_neighbors': 11, 'weights': 'distance'}\n",
      "0.8218298555377207 0.7947761194029851\n",
      "time spent: 4.66 minutes\n"
     ]
    }
   ],
   "source": [
    "start = time.clock()\n",
    "metricParams = [lambda a,b: metric1(a,b,[5.0, 0.1, 10.0, 3.0])]\n",
    "knn = KNeighborsClassifier(algorithm='brute', metric=lambda a,b: metric2(a,b,[5.0, 0.1, 10.0, 3.0]))\n",
    "parameters ={'n_neighbors': range(9,14), 'weights': ['uniform', 'distance']}\n",
    "clf3 = GridSearchCV(knn, parameters, cv=5)\n",
    "clf3.fit(X1_train, y_train)\n",
    "means = clf3.cv_results_['mean_test_score']\n",
    "stds = clf3.cv_results_['std_test_score']\n",
    "for mean, std, params in zip(means, stds, clf3.cv_results_['params']):\n",
    "    print(\"%0.3f (+/-%0.03f) for %r\" % (mean, std * 2, params))\n",
    "print('Best parameters:', clf3.best_params_)\n",
    "print(clf3.best_score_, accuracy_score(y_test, clf3.predict(X1_test)))\n",
    "print('time spent: %.2f minutes' % ((time.clock() - start)/60))"
   ]
  },
  {
   "cell_type": "markdown",
   "metadata": {},
   "source": [
    "## Split the data"
   ]
  },
  {
   "cell_type": "code",
   "execution_count": 17,
   "metadata": {},
   "outputs": [],
   "source": [
    "XY_train = X1_train.copy()\n",
    "XY_train['y'] = y_train\n",
    "XY_test = X1_test.copy()\n",
    "XY_test['y'] = y_test"
   ]
  },
  {
   "cell_type": "code",
   "execution_count": 18,
   "metadata": {},
   "outputs": [
    {
     "data": {
      "text/plain": [
       "((48, 10), (16, 10))"
      ]
     },
     "execution_count": 18,
     "metadata": {},
     "output_type": "execute_result"
    }
   ],
   "source": [
    "XY_ch_train = XY_train[(XY_train['Age'] < 11) & (XY_train['Age'] > 0)].copy()\n",
    "XY_ch_test = XY_test[(XY_test['Age'] < 11) & (XY_test['Age'] > 0)].copy()\n",
    "XY_ad_train = XY_train[(XY_train['Age'] >= 11) | (XY_train['Age'] == 0)].copy()\n",
    "XY_ad_test = XY_test[(XY_test['Age'] >= 11) | (XY_test['Age'] == 0)].copy()\n",
    "XY_ch_train.shape, XY_ch_test.shape"
   ]
  },
  {
   "cell_type": "code",
   "execution_count": 19,
   "metadata": {},
   "outputs": [
    {
     "data": {
      "text/plain": [
       "((195, 10), (88, 10), (380, 10), (164, 10))"
      ]
     },
     "execution_count": 19,
     "metadata": {},
     "output_type": "execute_result"
    }
   ],
   "source": [
    "XY_f_train = XY_ad_train[XY_ad_train['Sex']].copy()\n",
    "XY_f_test = XY_ad_test[XY_ad_test['Sex']].copy()\n",
    "XY_m_train = XY_ad_train[XY_ad_train['Sex'] == False].copy()\n",
    "XY_m_test = XY_ad_test[XY_ad_test['Sex'] == False].copy()\n",
    "XY_f_train.shape, XY_f_test.shape, XY_m_train.shape, XY_m_test.shape"
   ]
  },
  {
   "cell_type": "code",
   "execution_count": 20,
   "metadata": {},
   "outputs": [
    {
     "data": {
      "text/html": [
       "<div>\n",
       "<style scoped>\n",
       "    .dataframe tbody tr th:only-of-type {\n",
       "        vertical-align: middle;\n",
       "    }\n",
       "\n",
       "    .dataframe tbody tr th {\n",
       "        vertical-align: top;\n",
       "    }\n",
       "\n",
       "    .dataframe thead th {\n",
       "        text-align: right;\n",
       "    }\n",
       "</style>\n",
       "<table border=\"1\" class=\"dataframe\">\n",
       "  <thead>\n",
       "    <tr style=\"text-align: right;\">\n",
       "      <th></th>\n",
       "      <th>Pclass</th>\n",
       "      <th>Sex</th>\n",
       "      <th>Age</th>\n",
       "      <th>SibSp</th>\n",
       "      <th>Parch</th>\n",
       "      <th>Ticket</th>\n",
       "      <th>Fare</th>\n",
       "      <th>Cabin</th>\n",
       "      <th>Embarked</th>\n",
       "      <th>y</th>\n",
       "    </tr>\n",
       "  </thead>\n",
       "  <tbody>\n",
       "    <tr>\n",
       "      <th>787</th>\n",
       "      <td>3</td>\n",
       "      <td>False</td>\n",
       "      <td>8.00</td>\n",
       "      <td>4</td>\n",
       "      <td>1</td>\n",
       "      <td>1596200969129454524</td>\n",
       "      <td>29.1250</td>\n",
       "      <td>0</td>\n",
       "      <td>81</td>\n",
       "      <td>0</td>\n",
       "    </tr>\n",
       "    <tr>\n",
       "      <th>549</th>\n",
       "      <td>2</td>\n",
       "      <td>False</td>\n",
       "      <td>8.00</td>\n",
       "      <td>1</td>\n",
       "      <td>1</td>\n",
       "      <td>-5825690465621234393</td>\n",
       "      <td>36.7500</td>\n",
       "      <td>0</td>\n",
       "      <td>83</td>\n",
       "      <td>1</td>\n",
       "    </tr>\n",
       "    <tr>\n",
       "      <th>750</th>\n",
       "      <td>2</td>\n",
       "      <td>True</td>\n",
       "      <td>4.00</td>\n",
       "      <td>1</td>\n",
       "      <td>1</td>\n",
       "      <td>6861538419430179578</td>\n",
       "      <td>23.0000</td>\n",
       "      <td>0</td>\n",
       "      <td>83</td>\n",
       "      <td>1</td>\n",
       "    </tr>\n",
       "    <tr>\n",
       "      <th>305</th>\n",
       "      <td>1</td>\n",
       "      <td>False</td>\n",
       "      <td>0.92</td>\n",
       "      <td>1</td>\n",
       "      <td>2</td>\n",
       "      <td>3791881848988042204</td>\n",
       "      <td>151.5500</td>\n",
       "      <td>-5316271513937257180</td>\n",
       "      <td>83</td>\n",
       "      <td>1</td>\n",
       "    </tr>\n",
       "    <tr>\n",
       "      <th>691</th>\n",
       "      <td>3</td>\n",
       "      <td>True</td>\n",
       "      <td>4.00</td>\n",
       "      <td>0</td>\n",
       "      <td>1</td>\n",
       "      <td>5046427340628964821</td>\n",
       "      <td>13.4167</td>\n",
       "      <td>0</td>\n",
       "      <td>67</td>\n",
       "      <td>1</td>\n",
       "    </tr>\n",
       "  </tbody>\n",
       "</table>\n",
       "</div>"
      ],
      "text/plain": [
       "     Pclass    Sex   Age  SibSp  Parch               Ticket      Fare  \\\n",
       "787       3  False  8.00      4      1  1596200969129454524   29.1250   \n",
       "549       2  False  8.00      1      1 -5825690465621234393   36.7500   \n",
       "750       2   True  4.00      1      1  6861538419430179578   23.0000   \n",
       "305       1  False  0.92      1      2  3791881848988042204  151.5500   \n",
       "691       3   True  4.00      0      1  5046427340628964821   13.4167   \n",
       "\n",
       "                   Cabin  Embarked  y  \n",
       "787                    0        81  0  \n",
       "549                    0        83  1  \n",
       "750                    0        83  1  \n",
       "305 -5316271513937257180        83  1  \n",
       "691                    0        67  1  "
      ]
     },
     "execution_count": 20,
     "metadata": {},
     "output_type": "execute_result"
    }
   ],
   "source": [
    "XY_ch_train.head()"
   ]
  },
  {
   "cell_type": "code",
   "execution_count": 21,
   "metadata": {},
   "outputs": [
    {
     "data": {
      "text/plain": [
       "SibSp\n",
       "0    12\n",
       "1    16\n",
       "2     4\n",
       "3     5\n",
       "4    10\n",
       "5     1\n",
       "Name: y, dtype: int64"
      ]
     },
     "execution_count": 21,
     "metadata": {},
     "output_type": "execute_result"
    }
   ],
   "source": [
    "XY_ch_train.groupby(['SibSp'])['y'].count()"
   ]
  },
  {
   "cell_type": "code",
   "execution_count": 22,
   "metadata": {},
   "outputs": [
    {
     "data": {
      "text/html": [
       "<div>\n",
       "<style scoped>\n",
       "    .dataframe tbody tr th:only-of-type {\n",
       "        vertical-align: middle;\n",
       "    }\n",
       "\n",
       "    .dataframe tbody tr th {\n",
       "        vertical-align: top;\n",
       "    }\n",
       "\n",
       "    .dataframe thead th {\n",
       "        text-align: right;\n",
       "    }\n",
       "</style>\n",
       "<table border=\"1\" class=\"dataframe\">\n",
       "  <thead>\n",
       "    <tr style=\"text-align: right;\">\n",
       "      <th></th>\n",
       "      <th>Pclass</th>\n",
       "      <th>Sex</th>\n",
       "      <th>Age</th>\n",
       "      <th>SibSp</th>\n",
       "      <th>Parch</th>\n",
       "      <th>Fare</th>\n",
       "      <th>Cabin</th>\n",
       "      <th>Embarked</th>\n",
       "      <th>y</th>\n",
       "    </tr>\n",
       "    <tr>\n",
       "      <th>Ticket</th>\n",
       "      <th></th>\n",
       "      <th></th>\n",
       "      <th></th>\n",
       "      <th></th>\n",
       "      <th></th>\n",
       "      <th></th>\n",
       "      <th></th>\n",
       "      <th></th>\n",
       "      <th></th>\n",
       "    </tr>\n",
       "  </thead>\n",
       "  <tbody>\n",
       "    <tr>\n",
       "      <th>-8390409145606947083</th>\n",
       "      <td>3</td>\n",
       "      <td>3</td>\n",
       "      <td>3</td>\n",
       "      <td>3</td>\n",
       "      <td>3</td>\n",
       "      <td>3</td>\n",
       "      <td>3</td>\n",
       "      <td>3</td>\n",
       "      <td>3</td>\n",
       "    </tr>\n",
       "    <tr>\n",
       "      <th>-4950011229775712392</th>\n",
       "      <td>2</td>\n",
       "      <td>2</td>\n",
       "      <td>2</td>\n",
       "      <td>2</td>\n",
       "      <td>2</td>\n",
       "      <td>2</td>\n",
       "      <td>2</td>\n",
       "      <td>2</td>\n",
       "      <td>2</td>\n",
       "    </tr>\n",
       "    <tr>\n",
       "      <th>-3790748452038005826</th>\n",
       "      <td>3</td>\n",
       "      <td>3</td>\n",
       "      <td>3</td>\n",
       "      <td>3</td>\n",
       "      <td>3</td>\n",
       "      <td>3</td>\n",
       "      <td>3</td>\n",
       "      <td>3</td>\n",
       "      <td>3</td>\n",
       "    </tr>\n",
       "    <tr>\n",
       "      <th>-541997463550151252</th>\n",
       "      <td>1</td>\n",
       "      <td>1</td>\n",
       "      <td>1</td>\n",
       "      <td>1</td>\n",
       "      <td>1</td>\n",
       "      <td>1</td>\n",
       "      <td>1</td>\n",
       "      <td>1</td>\n",
       "      <td>1</td>\n",
       "    </tr>\n",
       "    <tr>\n",
       "      <th>982771382874576952</th>\n",
       "      <td>3</td>\n",
       "      <td>3</td>\n",
       "      <td>3</td>\n",
       "      <td>3</td>\n",
       "      <td>3</td>\n",
       "      <td>3</td>\n",
       "      <td>3</td>\n",
       "      <td>3</td>\n",
       "      <td>3</td>\n",
       "    </tr>\n",
       "    <tr>\n",
       "      <th>1596200969129454524</th>\n",
       "      <td>2</td>\n",
       "      <td>2</td>\n",
       "      <td>2</td>\n",
       "      <td>2</td>\n",
       "      <td>2</td>\n",
       "      <td>2</td>\n",
       "      <td>2</td>\n",
       "      <td>2</td>\n",
       "      <td>2</td>\n",
       "    </tr>\n",
       "    <tr>\n",
       "      <th>4347479549437982027</th>\n",
       "      <td>2</td>\n",
       "      <td>2</td>\n",
       "      <td>2</td>\n",
       "      <td>2</td>\n",
       "      <td>2</td>\n",
       "      <td>2</td>\n",
       "      <td>2</td>\n",
       "      <td>2</td>\n",
       "      <td>2</td>\n",
       "    </tr>\n",
       "  </tbody>\n",
       "</table>\n",
       "</div>"
      ],
      "text/plain": [
       "                      Pclass  Sex  Age  SibSp  Parch  Fare  Cabin  Embarked  y\n",
       "Ticket                                                                        \n",
       "-8390409145606947083       3    3    3      3      3     3      3         3  3\n",
       "-4950011229775712392       2    2    2      2      2     2      2         2  2\n",
       "-3790748452038005826       3    3    3      3      3     3      3         3  3\n",
       "-541997463550151252        1    1    1      1      1     1      1         1  1\n",
       " 982771382874576952        3    3    3      3      3     3      3         3  3\n",
       " 1596200969129454524       2    2    2      2      2     2      2         2  2\n",
       " 4347479549437982027       2    2    2      2      2     2      2         2  2"
      ]
     },
     "execution_count": 22,
     "metadata": {},
     "output_type": "execute_result"
    }
   ],
   "source": [
    "XY_ch_train[XY_ch_train['SibSp'] > 2].groupby('Ticket').count()"
   ]
  },
  {
   "cell_type": "code",
   "execution_count": 23,
   "metadata": {},
   "outputs": [
    {
     "data": {
      "text/plain": [
       "8.5167"
      ]
     },
     "execution_count": 23,
     "metadata": {},
     "output_type": "execute_result"
    }
   ],
   "source": [
    "XY_ch_train['Fare'].min()"
   ]
  },
  {
   "cell_type": "code",
   "execution_count": 24,
   "metadata": {},
   "outputs": [
    {
     "data": {
      "text/plain": [
       "5.017279836814924"
      ]
     },
     "execution_count": 24,
     "metadata": {},
     "output_type": "execute_result"
    }
   ],
   "source": [
    "safeLog(151)"
   ]
  },
  {
   "cell_type": "code",
   "execution_count": 25,
   "metadata": {},
   "outputs": [],
   "source": [
    "def metricChild(x1, x2):\n",
    "    distance = 0\n",
    "    #Pclass\n",
    "    distance += abs(x1[0] - x2[0])/ 2\n",
    "    #Sex\n",
    "    distance += (x1[1] != x2[1]) * 0.1\n",
    "    #Age\n",
    "    distance += (abs(x1[2] - x2[2])/10.0) \n",
    "    #SibSp\n",
    "    safeLog(abs(x1[3] - x2[3]) + 1)\n",
    "    #Parch\n",
    "    if x1[4] != x2[4]:\n",
    "        distance += 1\n",
    "    #Ticket\n",
    "    distance += (x1[5] != x2[5]) \n",
    "    #Fare\n",
    "    distance += abs(safeLog(x1[6] + 1) - safeLog(x2[6] + 1))/2.0\n",
    "    #Cabin\n",
    "    if (x1[7] != x2[7]):\n",
    "        distance += 1\n",
    "    elif x1[7] == 0:\n",
    "        distance += 0.3\n",
    "    #Embarked\n",
    "    #distance += (x1[5] != x2[5])/100.0\n",
    "    return distance"
   ]
  },
  {
   "cell_type": "code",
   "execution_count": 26,
   "metadata": {},
   "outputs": [],
   "source": [
    "y_ch_train = XY_ch_train['y']\n",
    "y_ch_test = XY_ch_test['y']\n",
    "X_ch_train = XY_ch_train.drop('y', axis=1)\n",
    "X_ch_test = XY_ch_test.drop('y', axis=1)"
   ]
  },
  {
   "cell_type": "code",
   "execution_count": 27,
   "metadata": {},
   "outputs": [
    {
     "data": {
      "text/plain": [
       "0.9375"
      ]
     },
     "execution_count": 27,
     "metadata": {},
     "output_type": "execute_result"
    }
   ],
   "source": [
    "clf_ch1 = KNeighborsClassifier(n_neighbors=11, weights='distance', algorithm='brute', metric=lambda a,b: metricChild(a,b))\n",
    "clf_ch1.fit(X_ch_train, y_ch_train)\n",
    "clf_ch1.score(X_ch_test, y_ch_test)"
   ]
  },
  {
   "cell_type": "code",
   "execution_count": 28,
   "metadata": {},
   "outputs": [
    {
     "name": "stdout",
     "output_type": "stream",
     "text": [
      "0.792 (+/-0.449) for {'n_neighbors': 5, 'weights': 'uniform'}\n",
      "0.833 (+/-0.331) for {'n_neighbors': 5, 'weights': 'distance'}\n",
      "0.729 (+/-0.380) for {'n_neighbors': 6, 'weights': 'uniform'}\n",
      "0.833 (+/-0.253) for {'n_neighbors': 6, 'weights': 'distance'}\n",
      "0.771 (+/-0.498) for {'n_neighbors': 7, 'weights': 'uniform'}\n",
      "0.792 (+/-0.384) for {'n_neighbors': 7, 'weights': 'distance'}\n",
      "0.729 (+/-0.515) for {'n_neighbors': 8, 'weights': 'uniform'}\n",
      "0.792 (+/-0.425) for {'n_neighbors': 8, 'weights': 'distance'}\n",
      "0.729 (+/-0.481) for {'n_neighbors': 9, 'weights': 'uniform'}\n",
      "0.771 (+/-0.401) for {'n_neighbors': 9, 'weights': 'distance'}\n",
      "0.750 (+/-0.413) for {'n_neighbors': 10, 'weights': 'uniform'}\n",
      "0.812 (+/-0.404) for {'n_neighbors': 10, 'weights': 'distance'}\n",
      "0.750 (+/-0.474) for {'n_neighbors': 11, 'weights': 'uniform'}\n",
      "0.792 (+/-0.484) for {'n_neighbors': 11, 'weights': 'distance'}\n",
      "0.688 (+/-0.484) for {'n_neighbors': 12, 'weights': 'uniform'}\n",
      "0.771 (+/-0.498) for {'n_neighbors': 12, 'weights': 'distance'}\n",
      "0.667 (+/-0.480) for {'n_neighbors': 13, 'weights': 'uniform'}\n",
      "0.771 (+/-0.464) for {'n_neighbors': 13, 'weights': 'distance'}\n",
      "Best parameters: {'n_neighbors': 5, 'weights': 'distance'}\n",
      "0.8333333333333334 0.875\n",
      "time spent: 0.10 minutes\n"
     ]
    }
   ],
   "source": [
    "start = time.clock()\n",
    "knn = KNeighborsClassifier(algorithm='brute', metric=lambda a,b: metricChild(a,b))\n",
    "parameters ={'n_neighbors': range(5,14), 'weights': ['uniform', 'distance']}\n",
    "clf_ch = GridSearchCV(knn, parameters, cv=10)\n",
    "clf_ch.fit(X_ch_train, y_ch_train)\n",
    "means = clf_ch.cv_results_['mean_test_score']\n",
    "stds = clf_ch.cv_results_['std_test_score']\n",
    "for mean, std, params in zip(means, stds, clf_ch.cv_results_['params']):\n",
    "    print(\"%0.3f (+/-%0.03f) for %r\" % (mean, std * 2, params))\n",
    "print('Best parameters:', clf_ch.best_params_)\n",
    "print(clf_ch.best_score_, accuracy_score(y_ch_test, clf_ch.predict(X_ch_test)))\n",
    "print('time spent: %.2f minutes' % ((time.clock() - start)/60))"
   ]
  },
  {
   "cell_type": "code",
   "execution_count": 28,
   "metadata": {},
   "outputs": [
    {
     "data": {
      "text/html": [
       "<div>\n",
       "<style scoped>\n",
       "    .dataframe tbody tr th:only-of-type {\n",
       "        vertical-align: middle;\n",
       "    }\n",
       "\n",
       "    .dataframe tbody tr th {\n",
       "        vertical-align: top;\n",
       "    }\n",
       "\n",
       "    .dataframe thead th {\n",
       "        text-align: right;\n",
       "    }\n",
       "</style>\n",
       "<table border=\"1\" class=\"dataframe\">\n",
       "  <thead>\n",
       "    <tr style=\"text-align: right;\">\n",
       "      <th></th>\n",
       "      <th>Pclass</th>\n",
       "      <th>Sex</th>\n",
       "      <th>Age</th>\n",
       "      <th>SibSp</th>\n",
       "      <th>Parch</th>\n",
       "      <th>Ticket</th>\n",
       "      <th>Fare</th>\n",
       "      <th>Cabin</th>\n",
       "      <th>Embarked</th>\n",
       "      <th>y</th>\n",
       "    </tr>\n",
       "  </thead>\n",
       "  <tbody>\n",
       "    <tr>\n",
       "      <th>680</th>\n",
       "      <td>3</td>\n",
       "      <td>True</td>\n",
       "      <td>0.0</td>\n",
       "      <td>0</td>\n",
       "      <td>0</td>\n",
       "      <td>-7658040212645836019</td>\n",
       "      <td>8.1375</td>\n",
       "      <td>0</td>\n",
       "      <td>81</td>\n",
       "      <td>0</td>\n",
       "    </tr>\n",
       "    <tr>\n",
       "      <th>727</th>\n",
       "      <td>3</td>\n",
       "      <td>True</td>\n",
       "      <td>0.0</td>\n",
       "      <td>0</td>\n",
       "      <td>0</td>\n",
       "      <td>-805423065161303625</td>\n",
       "      <td>7.7375</td>\n",
       "      <td>0</td>\n",
       "      <td>81</td>\n",
       "      <td>1</td>\n",
       "    </tr>\n",
       "    <tr>\n",
       "      <th>84</th>\n",
       "      <td>2</td>\n",
       "      <td>True</td>\n",
       "      <td>17.0</td>\n",
       "      <td>0</td>\n",
       "      <td>0</td>\n",
       "      <td>-5909104014021947928</td>\n",
       "      <td>10.5000</td>\n",
       "      <td>0</td>\n",
       "      <td>83</td>\n",
       "      <td>1</td>\n",
       "    </tr>\n",
       "    <tr>\n",
       "      <th>542</th>\n",
       "      <td>3</td>\n",
       "      <td>True</td>\n",
       "      <td>11.0</td>\n",
       "      <td>4</td>\n",
       "      <td>2</td>\n",
       "      <td>-3790748452038005826</td>\n",
       "      <td>31.2750</td>\n",
       "      <td>0</td>\n",
       "      <td>83</td>\n",
       "      <td>0</td>\n",
       "    </tr>\n",
       "    <tr>\n",
       "      <th>369</th>\n",
       "      <td>1</td>\n",
       "      <td>True</td>\n",
       "      <td>24.0</td>\n",
       "      <td>0</td>\n",
       "      <td>0</td>\n",
       "      <td>519670340334448164</td>\n",
       "      <td>69.3000</td>\n",
       "      <td>-1821753153063661302</td>\n",
       "      <td>67</td>\n",
       "      <td>1</td>\n",
       "    </tr>\n",
       "  </tbody>\n",
       "</table>\n",
       "</div>"
      ],
      "text/plain": [
       "     Pclass   Sex   Age  SibSp  Parch               Ticket     Fare  \\\n",
       "680       3  True   0.0      0      0 -7658040212645836019   8.1375   \n",
       "727       3  True   0.0      0      0  -805423065161303625   7.7375   \n",
       "84        2  True  17.0      0      0 -5909104014021947928  10.5000   \n",
       "542       3  True  11.0      4      2 -3790748452038005826  31.2750   \n",
       "369       1  True  24.0      0      0   519670340334448164  69.3000   \n",
       "\n",
       "                   Cabin  Embarked  y  \n",
       "680                    0        81  0  \n",
       "727                    0        81  1  \n",
       "84                     0        83  1  \n",
       "542                    0        83  0  \n",
       "369 -1821753153063661302        67  1  "
      ]
     },
     "execution_count": 28,
     "metadata": {},
     "output_type": "execute_result"
    }
   ],
   "source": [
    "XY_f_train.head()"
   ]
  },
  {
   "cell_type": "code",
   "execution_count": 29,
   "metadata": {},
   "outputs": [
    {
     "data": {
      "text/plain": [
       "Pclass\n",
       "1    0.985507\n",
       "2    0.883721\n",
       "3    0.542169\n",
       "Name: y, dtype: float64"
      ]
     },
     "execution_count": 29,
     "metadata": {},
     "output_type": "execute_result"
    }
   ],
   "source": [
    "XY_f_train.groupby(['Pclass'])['y'].mean()"
   ]
  },
  {
   "cell_type": "code",
   "execution_count": 30,
   "metadata": {},
   "outputs": [
    {
     "data": {
      "text/plain": [
       "Parch  SibSp\n",
       "0      0        0.674419\n",
       "       1        0.454545\n",
       "       2        0.500000\n",
       "1      0        1.000000\n",
       "       1        0.500000\n",
       "       3        0.000000\n",
       "2      0        0.600000\n",
       "       1        0.000000\n",
       "       4        0.500000\n",
       "       8        0.000000\n",
       "3      0        1.000000\n",
       "       1        0.000000\n",
       "4      1        0.000000\n",
       "5      0        0.000000\n",
       "       1        0.500000\n",
       "Name: y, dtype: float64"
      ]
     },
     "execution_count": 30,
     "metadata": {},
     "output_type": "execute_result"
    }
   ],
   "source": [
    "XY_f_train[(XY_f_train['Pclass'] == 3)].groupby(['Parch', 'SibSp'])['y'].mean()"
   ]
  },
  {
   "cell_type": "code",
   "execution_count": 31,
   "metadata": {},
   "outputs": [],
   "source": [
    "def metricFemale(x1, x2):\n",
    "    distance = 0\n",
    "    #Pclass\n",
    "    distance += abs(x1[0] - x2[0]) * 5\n",
    "    #Sex\n",
    "    distance += (x1[1] != x2[1])\n",
    "    #Age\n",
    "    distance += (abs(x1[2] - x2[2])/30.0) \n",
    "    #SibSp\n",
    "    safeLog(abs(x1[3] - x2[3]) + 1)\n",
    "    #Parch\n",
    "    if x1[4] == x2[4]:\n",
    "        pass\n",
    "    elif x1[4] * x2[4] == 0:\n",
    "        distance += 1\n",
    "    else:\n",
    "        distance += abs(x1[4] - x2[4]) / 10\n",
    "    #Ticket\n",
    "    distance += (x1[5] != x2[5]) \n",
    "    #Fare\n",
    "    distance += abs(safeLog(x1[6] + 1) - safeLog(x2[6] + 1))/2.0\n",
    "    #Cabin\n",
    "    if (x1[7] != x2[7]):\n",
    "        distance += 1\n",
    "    elif x1[7] == 0:\n",
    "        distance += 0.3\n",
    "    #Embarked\n",
    "    #distance += (x1[5] != x2[5])/100.0\n",
    "    return distance"
   ]
  },
  {
   "cell_type": "code",
   "execution_count": 32,
   "metadata": {},
   "outputs": [],
   "source": [
    "y_f_train = XY_f_train['y']\n",
    "y_f_test = XY_f_test['y']\n",
    "X_f_train = XY_f_train.drop('y', axis=1)\n",
    "X_f_test = XY_f_test.drop('y', axis=1)"
   ]
  },
  {
   "cell_type": "code",
   "execution_count": 33,
   "metadata": {},
   "outputs": [
    {
     "data": {
      "text/plain": [
       "0.8068181818181818"
      ]
     },
     "execution_count": 33,
     "metadata": {},
     "output_type": "execute_result"
    }
   ],
   "source": [
    "clf_f1 = KNeighborsClassifier(n_neighbors=3, weights='distance', algorithm='brute', metric=lambda a,b: metricFemale(a,b))\n",
    "clf_f1.fit(X_f_train, y_f_train)\n",
    "clf_f1.score(X_f_test, y_f_test)"
   ]
  },
  {
   "cell_type": "code",
   "execution_count": 59,
   "metadata": {},
   "outputs": [
    {
     "name": "stdout",
     "output_type": "stream",
     "text": [
      "0.836 (+/-0.065) for {'n_neighbors': 3, 'weights': 'uniform'}\n",
      "0.836 (+/-0.065) for {'n_neighbors': 3, 'weights': 'distance'}\n",
      "0.815 (+/-0.106) for {'n_neighbors': 4, 'weights': 'uniform'}\n",
      "0.841 (+/-0.078) for {'n_neighbors': 4, 'weights': 'distance'}\n",
      "0.831 (+/-0.049) for {'n_neighbors': 5, 'weights': 'uniform'}\n",
      "0.831 (+/-0.049) for {'n_neighbors': 5, 'weights': 'distance'}\n",
      "0.826 (+/-0.115) for {'n_neighbors': 6, 'weights': 'uniform'}\n",
      "0.846 (+/-0.104) for {'n_neighbors': 6, 'weights': 'distance'}\n",
      "0.836 (+/-0.066) for {'n_neighbors': 7, 'weights': 'uniform'}\n",
      "0.836 (+/-0.066) for {'n_neighbors': 7, 'weights': 'distance'}\n",
      "0.846 (+/-0.083) for {'n_neighbors': 8, 'weights': 'uniform'}\n",
      "0.851 (+/-0.091) for {'n_neighbors': 8, 'weights': 'distance'}\n",
      "0.831 (+/-0.108) for {'n_neighbors': 9, 'weights': 'uniform'}\n",
      "0.831 (+/-0.108) for {'n_neighbors': 9, 'weights': 'distance'}\n",
      "0.836 (+/-0.087) for {'n_neighbors': 10, 'weights': 'uniform'}\n",
      "0.836 (+/-0.087) for {'n_neighbors': 10, 'weights': 'distance'}\n",
      "0.836 (+/-0.075) for {'n_neighbors': 11, 'weights': 'uniform'}\n",
      "0.836 (+/-0.075) for {'n_neighbors': 11, 'weights': 'distance'}\n",
      "Best parameters: {'n_neighbors': 8, 'weights': 'distance'}\n",
      "0.8512820512820513 0.7840909090909091\n",
      "time spent: 0.68 minutes\n"
     ]
    }
   ],
   "source": [
    "start = time.clock()\n",
    "knn = KNeighborsClassifier(algorithm='brute', metric=lambda a,b: metricFemale(a,b))\n",
    "parameters ={'n_neighbors': range(3,12), 'weights': ['uniform', 'distance']}\n",
    "clf_f = GridSearchCV(knn, parameters, cv=5)\n",
    "clf_f.fit(X_f_train, y_f_train)\n",
    "means = clf_f.cv_results_['mean_test_score']\n",
    "stds = clf_f.cv_results_['std_test_score']\n",
    "for mean, std, params in zip(means, stds, clf_f.cv_results_['params']):\n",
    "    print(\"%0.3f (+/-%0.03f) for %r\" % (mean, std * 2, params))\n",
    "print('Best parameters:', clf_f.best_params_)\n",
    "print(clf_f.best_score_, accuracy_score(y_f_test, clf_f.predict(X_f_test)))\n",
    "print('time spent: %.2f minutes' % ((time.clock() - start)/60))"
   ]
  },
  {
   "cell_type": "code",
   "execution_count": 45,
   "metadata": {},
   "outputs": [
    {
     "name": "stdout",
     "output_type": "stream",
     "text": [
      "0.815 (+/-0.049) for {'max_depth': 3, 'min_impurity_decrease': 0.002, 'min_samples_split': 5}\n",
      "0.805 (+/-0.049) for {'max_depth': 3, 'min_impurity_decrease': 0.002, 'min_samples_split': 7}\n",
      "0.815 (+/-0.060) for {'max_depth': 3, 'min_impurity_decrease': 0.002, 'min_samples_split': 9}\n",
      "0.810 (+/-0.051) for {'max_depth': 3, 'min_impurity_decrease': 0.002, 'min_samples_split': 11}\n",
      "0.805 (+/-0.049) for {'max_depth': 3, 'min_impurity_decrease': 0.002, 'min_samples_split': 13}\n",
      "0.810 (+/-0.051) for {'max_depth': 3, 'min_impurity_decrease': 0.002, 'min_samples_split': 15}\n",
      "0.805 (+/-0.049) for {'max_depth': 3, 'min_impurity_decrease': 0.002, 'min_samples_split': 17}\n",
      "0.805 (+/-0.049) for {'max_depth': 3, 'min_impurity_decrease': 0.002, 'min_samples_split': 19}\n",
      "0.815 (+/-0.049) for {'max_depth': 3, 'min_impurity_decrease': 0.003, 'min_samples_split': 5}\n",
      "0.810 (+/-0.049) for {'max_depth': 3, 'min_impurity_decrease': 0.003, 'min_samples_split': 7}\n",
      "0.815 (+/-0.049) for {'max_depth': 3, 'min_impurity_decrease': 0.003, 'min_samples_split': 9}\n",
      "0.810 (+/-0.051) for {'max_depth': 3, 'min_impurity_decrease': 0.003, 'min_samples_split': 11}\n",
      "0.810 (+/-0.051) for {'max_depth': 3, 'min_impurity_decrease': 0.003, 'min_samples_split': 13}\n",
      "0.815 (+/-0.049) for {'max_depth': 3, 'min_impurity_decrease': 0.003, 'min_samples_split': 15}\n",
      "0.810 (+/-0.051) for {'max_depth': 3, 'min_impurity_decrease': 0.003, 'min_samples_split': 17}\n",
      "0.815 (+/-0.049) for {'max_depth': 3, 'min_impurity_decrease': 0.003, 'min_samples_split': 19}\n",
      "0.805 (+/-0.049) for {'max_depth': 4, 'min_impurity_decrease': 0.002, 'min_samples_split': 5}\n",
      "0.795 (+/-0.053) for {'max_depth': 4, 'min_impurity_decrease': 0.002, 'min_samples_split': 7}\n",
      "0.805 (+/-0.049) for {'max_depth': 4, 'min_impurity_decrease': 0.002, 'min_samples_split': 9}\n",
      "0.800 (+/-0.057) for {'max_depth': 4, 'min_impurity_decrease': 0.002, 'min_samples_split': 11}\n",
      "0.805 (+/-0.049) for {'max_depth': 4, 'min_impurity_decrease': 0.002, 'min_samples_split': 13}\n",
      "0.795 (+/-0.053) for {'max_depth': 4, 'min_impurity_decrease': 0.002, 'min_samples_split': 15}\n",
      "0.800 (+/-0.057) for {'max_depth': 4, 'min_impurity_decrease': 0.002, 'min_samples_split': 17}\n",
      "0.805 (+/-0.049) for {'max_depth': 4, 'min_impurity_decrease': 0.002, 'min_samples_split': 19}\n",
      "0.810 (+/-0.059) for {'max_depth': 4, 'min_impurity_decrease': 0.003, 'min_samples_split': 5}\n",
      "0.800 (+/-0.047) for {'max_depth': 4, 'min_impurity_decrease': 0.003, 'min_samples_split': 7}\n",
      "0.800 (+/-0.057) for {'max_depth': 4, 'min_impurity_decrease': 0.003, 'min_samples_split': 9}\n",
      "0.795 (+/-0.053) for {'max_depth': 4, 'min_impurity_decrease': 0.003, 'min_samples_split': 11}\n",
      "0.805 (+/-0.067) for {'max_depth': 4, 'min_impurity_decrease': 0.003, 'min_samples_split': 13}\n",
      "0.795 (+/-0.053) for {'max_depth': 4, 'min_impurity_decrease': 0.003, 'min_samples_split': 15}\n",
      "0.800 (+/-0.057) for {'max_depth': 4, 'min_impurity_decrease': 0.003, 'min_samples_split': 17}\n",
      "0.810 (+/-0.049) for {'max_depth': 4, 'min_impurity_decrease': 0.003, 'min_samples_split': 19}\n",
      "0.810 (+/-0.049) for {'max_depth': 5, 'min_impurity_decrease': 0.002, 'min_samples_split': 5}\n",
      "0.800 (+/-0.065) for {'max_depth': 5, 'min_impurity_decrease': 0.002, 'min_samples_split': 7}\n",
      "0.795 (+/-0.070) for {'max_depth': 5, 'min_impurity_decrease': 0.002, 'min_samples_split': 9}\n",
      "0.805 (+/-0.080) for {'max_depth': 5, 'min_impurity_decrease': 0.002, 'min_samples_split': 11}\n",
      "0.795 (+/-0.070) for {'max_depth': 5, 'min_impurity_decrease': 0.002, 'min_samples_split': 13}\n",
      "0.795 (+/-0.053) for {'max_depth': 5, 'min_impurity_decrease': 0.002, 'min_samples_split': 15}\n",
      "0.805 (+/-0.049) for {'max_depth': 5, 'min_impurity_decrease': 0.002, 'min_samples_split': 17}\n",
      "0.795 (+/-0.083) for {'max_depth': 5, 'min_impurity_decrease': 0.002, 'min_samples_split': 19}\n",
      "0.795 (+/-0.062) for {'max_depth': 5, 'min_impurity_decrease': 0.003, 'min_samples_split': 5}\n",
      "0.800 (+/-0.067) for {'max_depth': 5, 'min_impurity_decrease': 0.003, 'min_samples_split': 7}\n",
      "0.795 (+/-0.070) for {'max_depth': 5, 'min_impurity_decrease': 0.003, 'min_samples_split': 9}\n",
      "0.795 (+/-0.062) for {'max_depth': 5, 'min_impurity_decrease': 0.003, 'min_samples_split': 11}\n",
      "0.790 (+/-0.065) for {'max_depth': 5, 'min_impurity_decrease': 0.003, 'min_samples_split': 13}\n",
      "0.795 (+/-0.070) for {'max_depth': 5, 'min_impurity_decrease': 0.003, 'min_samples_split': 15}\n",
      "0.795 (+/-0.060) for {'max_depth': 5, 'min_impurity_decrease': 0.003, 'min_samples_split': 17}\n",
      "0.795 (+/-0.053) for {'max_depth': 5, 'min_impurity_decrease': 0.003, 'min_samples_split': 19}\n",
      "0.800 (+/-0.103) for {'max_depth': 6, 'min_impurity_decrease': 0.002, 'min_samples_split': 5}\n",
      "0.805 (+/-0.088) for {'max_depth': 6, 'min_impurity_decrease': 0.002, 'min_samples_split': 7}\n",
      "0.815 (+/-0.072) for {'max_depth': 6, 'min_impurity_decrease': 0.002, 'min_samples_split': 9}\n",
      "0.815 (+/-0.102) for {'max_depth': 6, 'min_impurity_decrease': 0.002, 'min_samples_split': 11}\n",
      "0.805 (+/-0.080) for {'max_depth': 6, 'min_impurity_decrease': 0.002, 'min_samples_split': 13}\n",
      "0.805 (+/-0.066) for {'max_depth': 6, 'min_impurity_decrease': 0.002, 'min_samples_split': 15}\n",
      "0.800 (+/-0.102) for {'max_depth': 6, 'min_impurity_decrease': 0.002, 'min_samples_split': 17}\n",
      "0.790 (+/-0.085) for {'max_depth': 6, 'min_impurity_decrease': 0.002, 'min_samples_split': 19}\n",
      "0.795 (+/-0.099) for {'max_depth': 6, 'min_impurity_decrease': 0.003, 'min_samples_split': 5}\n",
      "0.810 (+/-0.080) for {'max_depth': 6, 'min_impurity_decrease': 0.003, 'min_samples_split': 7}\n",
      "0.795 (+/-0.083) for {'max_depth': 6, 'min_impurity_decrease': 0.003, 'min_samples_split': 9}\n",
      "0.805 (+/-0.080) for {'max_depth': 6, 'min_impurity_decrease': 0.003, 'min_samples_split': 11}\n",
      "0.810 (+/-0.087) for {'max_depth': 6, 'min_impurity_decrease': 0.003, 'min_samples_split': 13}\n",
      "0.805 (+/-0.092) for {'max_depth': 6, 'min_impurity_decrease': 0.003, 'min_samples_split': 15}\n",
      "0.800 (+/-0.085) for {'max_depth': 6, 'min_impurity_decrease': 0.003, 'min_samples_split': 17}\n",
      "0.800 (+/-0.057) for {'max_depth': 6, 'min_impurity_decrease': 0.003, 'min_samples_split': 19}\n",
      "0.800 (+/-0.087) for {'max_depth': 7, 'min_impurity_decrease': 0.002, 'min_samples_split': 5}\n",
      "0.795 (+/-0.114) for {'max_depth': 7, 'min_impurity_decrease': 0.002, 'min_samples_split': 7}\n",
      "0.805 (+/-0.097) for {'max_depth': 7, 'min_impurity_decrease': 0.002, 'min_samples_split': 9}\n",
      "0.805 (+/-0.080) for {'max_depth': 7, 'min_impurity_decrease': 0.002, 'min_samples_split': 11}\n",
      "0.805 (+/-0.088) for {'max_depth': 7, 'min_impurity_decrease': 0.002, 'min_samples_split': 13}\n",
      "0.800 (+/-0.096) for {'max_depth': 7, 'min_impurity_decrease': 0.002, 'min_samples_split': 15}\n",
      "0.790 (+/-0.084) for {'max_depth': 7, 'min_impurity_decrease': 0.002, 'min_samples_split': 17}\n",
      "0.795 (+/-0.053) for {'max_depth': 7, 'min_impurity_decrease': 0.002, 'min_samples_split': 19}\n",
      "0.800 (+/-0.098) for {'max_depth': 7, 'min_impurity_decrease': 0.003, 'min_samples_split': 5}\n",
      "0.810 (+/-0.082) for {'max_depth': 7, 'min_impurity_decrease': 0.003, 'min_samples_split': 7}\n",
      "0.805 (+/-0.103) for {'max_depth': 7, 'min_impurity_decrease': 0.003, 'min_samples_split': 9}\n",
      "0.805 (+/-0.103) for {'max_depth': 7, 'min_impurity_decrease': 0.003, 'min_samples_split': 11}\n",
      "0.800 (+/-0.106) for {'max_depth': 7, 'min_impurity_decrease': 0.003, 'min_samples_split': 13}\n",
      "0.810 (+/-0.087) for {'max_depth': 7, 'min_impurity_decrease': 0.003, 'min_samples_split': 15}\n",
      "0.795 (+/-0.104) for {'max_depth': 7, 'min_impurity_decrease': 0.003, 'min_samples_split': 17}\n",
      "0.795 (+/-0.060) for {'max_depth': 7, 'min_impurity_decrease': 0.003, 'min_samples_split': 19}\n",
      "Best parameters: {'max_depth': 3, 'min_impurity_decrease': 0.002, 'min_samples_split': 5}\n",
      "0.8153846153846154 0.7613636363636364\n",
      "time spent: 4.30 minutes\n"
     ]
    }
   ],
   "source": [
    "start = time.clock()\n",
    "knn = KNeighborsClassifier(algorithm='brute', metric=lambda a,b: metricFemale(a,b))\n",
    "rf = RandomForestClassifier(n_estimators=500, max_features='sqrt')\n",
    "parameters ={'max_depth': range(3,8), 'min_samples_split' : range(5,21,2), 'min_impurity_decrease': [0.002, 0.003]}\n",
    "clf_f_rf = GridSearchCV(rf, parameters, cv=5)\n",
    "clf_f_rf.fit(X_f_train, y_f_train)\n",
    "means = clf_f_rf.cv_results_['mean_test_score']\n",
    "stds = clf_f_rf.cv_results_['std_test_score']\n",
    "for mean, std, params in zip(means, stds, clf_f_rf.cv_results_['params']):\n",
    "    print(\"%0.3f (+/-%0.03f) for %r\" % (mean, std * 2, params))\n",
    "print('Best parameters:', clf_f_rf.best_params_)\n",
    "print(clf_f_rf.best_score_, accuracy_score(y_f_test, clf_f_rf.predict(X_f_test)))\n",
    "print('time spent: %.2f minutes' % ((time.clock() - start)/60))"
   ]
  },
  {
   "cell_type": "code",
   "execution_count": 34,
   "metadata": {},
   "outputs": [],
   "source": [
    "y_m_train = XY_m_train['y']\n",
    "y_m_test = XY_m_test['y']\n",
    "X_m_train = XY_m_train.drop('y', axis=1)\n",
    "X_m_test = XY_m_test.drop('y', axis=1)"
   ]
  },
  {
   "cell_type": "code",
   "execution_count": 35,
   "metadata": {},
   "outputs": [
    {
     "data": {
      "text/html": [
       "<div>\n",
       "<style scoped>\n",
       "    .dataframe tbody tr th:only-of-type {\n",
       "        vertical-align: middle;\n",
       "    }\n",
       "\n",
       "    .dataframe tbody tr th {\n",
       "        vertical-align: top;\n",
       "    }\n",
       "\n",
       "    .dataframe thead th {\n",
       "        text-align: right;\n",
       "    }\n",
       "</style>\n",
       "<table border=\"1\" class=\"dataframe\">\n",
       "  <thead>\n",
       "    <tr style=\"text-align: right;\">\n",
       "      <th></th>\n",
       "      <th>Pclass</th>\n",
       "      <th>Sex</th>\n",
       "      <th>Age</th>\n",
       "      <th>SibSp</th>\n",
       "      <th>Parch</th>\n",
       "      <th>Ticket</th>\n",
       "      <th>Fare</th>\n",
       "      <th>Cabin</th>\n",
       "      <th>Embarked</th>\n",
       "      <th>y</th>\n",
       "    </tr>\n",
       "  </thead>\n",
       "  <tbody>\n",
       "    <tr>\n",
       "      <th>810</th>\n",
       "      <td>3</td>\n",
       "      <td>False</td>\n",
       "      <td>26.0</td>\n",
       "      <td>0</td>\n",
       "      <td>0</td>\n",
       "      <td>4037456238788204363</td>\n",
       "      <td>7.8875</td>\n",
       "      <td>0</td>\n",
       "      <td>83</td>\n",
       "      <td>0</td>\n",
       "    </tr>\n",
       "    <tr>\n",
       "      <th>775</th>\n",
       "      <td>3</td>\n",
       "      <td>False</td>\n",
       "      <td>18.0</td>\n",
       "      <td>0</td>\n",
       "      <td>0</td>\n",
       "      <td>-6202714938542884908</td>\n",
       "      <td>7.7500</td>\n",
       "      <td>0</td>\n",
       "      <td>83</td>\n",
       "      <td>0</td>\n",
       "    </tr>\n",
       "    <tr>\n",
       "      <th>795</th>\n",
       "      <td>2</td>\n",
       "      <td>False</td>\n",
       "      <td>39.0</td>\n",
       "      <td>0</td>\n",
       "      <td>0</td>\n",
       "      <td>5013095912883230653</td>\n",
       "      <td>13.0000</td>\n",
       "      <td>0</td>\n",
       "      <td>83</td>\n",
       "      <td>0</td>\n",
       "    </tr>\n",
       "    <tr>\n",
       "      <th>845</th>\n",
       "      <td>3</td>\n",
       "      <td>False</td>\n",
       "      <td>42.0</td>\n",
       "      <td>0</td>\n",
       "      <td>0</td>\n",
       "      <td>-951420304713922851</td>\n",
       "      <td>7.5500</td>\n",
       "      <td>0</td>\n",
       "      <td>83</td>\n",
       "      <td>0</td>\n",
       "    </tr>\n",
       "    <tr>\n",
       "      <th>857</th>\n",
       "      <td>1</td>\n",
       "      <td>False</td>\n",
       "      <td>51.0</td>\n",
       "      <td>0</td>\n",
       "      <td>0</td>\n",
       "      <td>-2610761685358688808</td>\n",
       "      <td>26.5500</td>\n",
       "      <td>-2462281457472562971</td>\n",
       "      <td>83</td>\n",
       "      <td>1</td>\n",
       "    </tr>\n",
       "  </tbody>\n",
       "</table>\n",
       "</div>"
      ],
      "text/plain": [
       "     Pclass    Sex   Age  SibSp  Parch               Ticket     Fare  \\\n",
       "810       3  False  26.0      0      0  4037456238788204363   7.8875   \n",
       "775       3  False  18.0      0      0 -6202714938542884908   7.7500   \n",
       "795       2  False  39.0      0      0  5013095912883230653  13.0000   \n",
       "845       3  False  42.0      0      0  -951420304713922851   7.5500   \n",
       "857       1  False  51.0      0      0 -2610761685358688808  26.5500   \n",
       "\n",
       "                   Cabin  Embarked  y  \n",
       "810                    0        83  0  \n",
       "775                    0        83  0  \n",
       "795                    0        83  0  \n",
       "845                    0        83  0  \n",
       "857 -2462281457472562971        83  1  "
      ]
     },
     "execution_count": 35,
     "metadata": {},
     "output_type": "execute_result"
    }
   ],
   "source": [
    "XY_m_train.head()"
   ]
  },
  {
   "cell_type": "code",
   "execution_count": 36,
   "metadata": {},
   "outputs": [
    {
     "data": {
      "text/plain": [
       "Pclass  Parch  SibSp\n",
       "1       0      0        0.326531\n",
       "               1        0.437500\n",
       "               2        0.500000\n",
       "        1      0        0.166667\n",
       "               1        0.500000\n",
       "        2      0        0.000000\n",
       "               1        1.000000\n",
       "               3        0.000000\n",
       "        4      1        0.000000\n",
       "2       0      0        0.096154\n",
       "               1        0.111111\n",
       "               2        0.000000\n",
       "        1      0        0.000000\n",
       "               1        0.000000\n",
       "        2      0        0.000000\n",
       "               1        0.000000\n",
       "3       0      0        0.111111\n",
       "               1        0.125000\n",
       "               2        0.000000\n",
       "        1      1        0.125000\n",
       "               3        0.000000\n",
       "               4        0.000000\n",
       "        2      0        0.000000\n",
       "               1        0.000000\n",
       "               5        0.000000\n",
       "               8        0.000000\n",
       "        4      1        0.000000\n",
       "        5      1        0.000000\n",
       "Name: y, dtype: float64"
      ]
     },
     "execution_count": 36,
     "metadata": {},
     "output_type": "execute_result"
    }
   ],
   "source": [
    "XY_m_train.groupby(['Pclass', 'Parch', 'SibSp'])['y'].mean()"
   ]
  },
  {
   "cell_type": "code",
   "execution_count": 37,
   "metadata": {},
   "outputs": [],
   "source": [
    "def metricMale(x1, x2):\n",
    "    distance = 0\n",
    "    #Pclass\n",
    "    distance += abs(x1[0] - x2[0]) * 2\n",
    "    #Sex\n",
    "    distance += (x1[1] != x2[1])\n",
    "    #Age\n",
    "    distance += (abs(x1[2] - x2[2])/50.0) \n",
    "    #SibSp\n",
    "    safeLog(abs(x1[3] - x2[3]) + 1)\n",
    "    #Parch\n",
    "    if x1[4] == x2[4]:\n",
    "        pass\n",
    "    elif x1[4] * x2[4] == 0:\n",
    "        distance += 1\n",
    "    else:\n",
    "        distance += abs(x1[4] - x2[4]) / 10\n",
    "    #Ticket\n",
    "    distance += (x1[5] != x2[5]) \n",
    "    #Fare\n",
    "    distance += abs(safeLog(x1[6] + 1) - safeLog(x2[6] + 1))/3.0\n",
    "    #Cabin\n",
    "    if (x1[7] != x2[7]):\n",
    "        distance += 1\n",
    "    elif x1[7] == 0:\n",
    "        distance += 0.3\n",
    "    #Embarked\n",
    "    #distance += (x1[5] != x2[5])/100.0\n",
    "    return distance"
   ]
  },
  {
   "cell_type": "code",
   "execution_count": 38,
   "metadata": {},
   "outputs": [
    {
     "data": {
      "text/plain": [
       "0.8109756097560976"
      ]
     },
     "execution_count": 38,
     "metadata": {},
     "output_type": "execute_result"
    }
   ],
   "source": [
    "clf_m1 = KNeighborsClassifier(n_neighbors=5, weights='distance', algorithm='brute', metric=lambda a,b: metricMale(a,b))\n",
    "clf_m1.fit(X_m_train, y_m_train)\n",
    "clf_m1.score(X_m_test, y_m_test)"
   ]
  },
  {
   "cell_type": "code",
   "execution_count": 40,
   "metadata": {},
   "outputs": [
    {
     "name": "stdout",
     "output_type": "stream",
     "text": [
      "0.803 (+/-0.053) for {'n_neighbors': 3, 'weights': 'uniform'}\n",
      "0.808 (+/-0.050) for {'n_neighbors': 3, 'weights': 'distance'}\n",
      "0.832 (+/-0.032) for {'n_neighbors': 4, 'weights': 'uniform'}\n",
      "0.808 (+/-0.050) for {'n_neighbors': 4, 'weights': 'distance'}\n",
      "0.824 (+/-0.043) for {'n_neighbors': 5, 'weights': 'uniform'}\n",
      "0.824 (+/-0.049) for {'n_neighbors': 5, 'weights': 'distance'}\n",
      "0.834 (+/-0.023) for {'n_neighbors': 6, 'weights': 'uniform'}\n",
      "0.821 (+/-0.039) for {'n_neighbors': 6, 'weights': 'distance'}\n",
      "0.826 (+/-0.023) for {'n_neighbors': 7, 'weights': 'uniform'}\n",
      "0.832 (+/-0.022) for {'n_neighbors': 7, 'weights': 'distance'}\n",
      "0.834 (+/-0.015) for {'n_neighbors': 8, 'weights': 'uniform'}\n",
      "0.832 (+/-0.027) for {'n_neighbors': 8, 'weights': 'distance'}\n",
      "0.826 (+/-0.033) for {'n_neighbors': 9, 'weights': 'uniform'}\n",
      "0.832 (+/-0.027) for {'n_neighbors': 9, 'weights': 'distance'}\n",
      "0.839 (+/-0.020) for {'n_neighbors': 10, 'weights': 'uniform'}\n",
      "0.837 (+/-0.022) for {'n_neighbors': 10, 'weights': 'distance'}\n",
      "0.829 (+/-0.054) for {'n_neighbors': 11, 'weights': 'uniform'}\n",
      "0.839 (+/-0.037) for {'n_neighbors': 11, 'weights': 'distance'}\n",
      "Best parameters: {'n_neighbors': 10, 'weights': 'uniform'}\n",
      "0.8394736842105263 0.8109756097560976\n",
      "time spent: 2.68 minutes\n"
     ]
    }
   ],
   "source": [
    "start = time.clock()\n",
    "knn = KNeighborsClassifier(algorithm='brute', metric=lambda a,b: metricMale(a,b))\n",
    "parameters ={'n_neighbors': range(3,12), 'weights': ['uniform', 'distance']}\n",
    "clf_m = GridSearchCV(knn, parameters, cv=5)\n",
    "clf_m.fit(X_m_train, y_m_train)\n",
    "means = clf_m.cv_results_['mean_test_score']\n",
    "stds = clf_m.cv_results_['std_test_score']\n",
    "for mean, std, params in zip(means, stds, clf_m.cv_results_['params']):\n",
    "    print(\"%0.3f (+/-%0.03f) for %r\" % (mean, std * 2, params))\n",
    "print('Best parameters:', clf_m.best_params_)\n",
    "print(clf_m.best_score_, accuracy_score(y_m_test, clf_m.predict(X_m_test)))\n",
    "print('time spent: %.2f minutes' % ((time.clock() - start)/60))"
   ]
  },
  {
   "cell_type": "code",
   "execution_count": 41,
   "metadata": {},
   "outputs": [],
   "source": [
    "y_m_pred = clf_m.predict(X_m_test)\n",
    "y_m_pred_1 = clf_m1.predict(X_m_test)"
   ]
  },
  {
   "cell_type": "code",
   "execution_count": 42,
   "metadata": {},
   "outputs": [
    {
     "data": {
      "text/html": [
       "<div>\n",
       "<style scoped>\n",
       "    .dataframe tbody tr th:only-of-type {\n",
       "        vertical-align: middle;\n",
       "    }\n",
       "\n",
       "    .dataframe tbody tr th {\n",
       "        vertical-align: top;\n",
       "    }\n",
       "\n",
       "    .dataframe thead th {\n",
       "        text-align: right;\n",
       "    }\n",
       "</style>\n",
       "<table border=\"1\" class=\"dataframe\">\n",
       "  <thead>\n",
       "    <tr style=\"text-align: right;\">\n",
       "      <th></th>\n",
       "      <th>y_pred</th>\n",
       "      <th>y_pred1</th>\n",
       "      <th>y_pred_class</th>\n",
       "    </tr>\n",
       "    <tr>\n",
       "      <th>y</th>\n",
       "      <th></th>\n",
       "      <th></th>\n",
       "      <th></th>\n",
       "    </tr>\n",
       "  </thead>\n",
       "  <tbody>\n",
       "    <tr>\n",
       "      <th>0</th>\n",
       "      <td>0.015152</td>\n",
       "      <td>0.037879</td>\n",
       "      <td>0.181818</td>\n",
       "    </tr>\n",
       "    <tr>\n",
       "      <th>1</th>\n",
       "      <td>0.093750</td>\n",
       "      <td>0.187500</td>\n",
       "      <td>0.468750</td>\n",
       "    </tr>\n",
       "  </tbody>\n",
       "</table>\n",
       "</div>"
      ],
      "text/plain": [
       "     y_pred   y_pred1  y_pred_class\n",
       "y                                  \n",
       "0  0.015152  0.037879      0.181818\n",
       "1  0.093750  0.187500      0.468750"
      ]
     },
     "execution_count": 42,
     "metadata": {},
     "output_type": "execute_result"
    }
   ],
   "source": [
    "XY_m_test['y_pred'] = y_m_pred\n",
    "XY_m_test['y_pred1'] = y_m_pred_1\n",
    "XY_m_test['y_pred_class'] = (XY_m_test['Pclass'] == 1) & (XY_m_test['SibSp'] <= 1)\n",
    "XY_m_test.groupby('y')['y_pred', 'y_pred1', 'y_pred_class'].mean()"
   ]
  },
  {
   "cell_type": "code",
   "execution_count": 43,
   "metadata": {},
   "outputs": [
    {
     "data": {
      "image/png": "[encoded data removed]",
      "text/plain": [
       "<Figure size 432x288 with 1 Axes>"
      ]
     },
     "metadata": {},
     "output_type": "display_data"
    }
   ],
   "source": [
    "plt.scatter(XY_m_train['Age'], XY_m_train['Fare'], c=y_m_train)\n",
    "plt.yscale('symlog')"
   ]
  },
  {
   "cell_type": "code",
   "execution_count": 44,
   "metadata": {},
   "outputs": [
    {
     "data": {
      "text/plain": [
       "((81, 10), (39, 13))"
      ]
     },
     "execution_count": 44,
     "metadata": {},
     "output_type": "execute_result"
    }
   ],
   "source": [
    "XY_m_1_train = XY_m_train[XY_m_train['Pclass'] == 1].copy()\n",
    "XY_m_1_test = XY_m_test[XY_m_test['Pclass'] == 1].copy()\n",
    "y_m_1_train = XY_m_1_train['y']\n",
    "y_m_1_test = XY_m_1_test['y']\n",
    "X_m_1_train = XY_m_1_train.drop('y', axis=1)\n",
    "X_m_1_test = XY_m_1_test.drop(['y', 'y_pred', 'y_pred1', 'y_pred_class'], axis=1)\n",
    "XY_m_1_train.shape, XY_m_1_test.shape"
   ]
  },
  {
   "cell_type": "code",
   "execution_count": 45,
   "metadata": {},
   "outputs": [
    {
     "data": {
      "text/plain": [
       "0.6153846153846154"
      ]
     },
     "execution_count": 45,
     "metadata": {},
     "output_type": "execute_result"
    }
   ],
   "source": [
    "clf_m11 = KNeighborsClassifier(n_neighbors=5, weights='distance', algorithm='brute', metric=lambda a,b: metricMale(a,b))\n",
    "clf_m11.fit(X_m_1_train, y_m_1_train)\n",
    "y_m1_pred = clf_m11.predict(X_m_1_test)\n",
    "clf_m11.score(X_m_1_test, y_m_1_test)"
   ]
  },
  {
   "cell_type": "code",
   "execution_count": 46,
   "metadata": {},
   "outputs": [
    {
     "name": "stdout",
     "output_type": "stream",
     "text": [
      "0.580 (+/-0.174) for {'n_neighbors': 3, 'weights': 'uniform'}\n",
      "0.605 (+/-0.188) for {'n_neighbors': 3, 'weights': 'distance'}\n",
      "0.605 (+/-0.190) for {'n_neighbors': 4, 'weights': 'uniform'}\n",
      "0.617 (+/-0.218) for {'n_neighbors': 4, 'weights': 'distance'}\n",
      "0.556 (+/-0.149) for {'n_neighbors': 5, 'weights': 'uniform'}\n",
      "0.580 (+/-0.179) for {'n_neighbors': 5, 'weights': 'distance'}\n",
      "0.642 (+/-0.078) for {'n_neighbors': 6, 'weights': 'uniform'}\n",
      "0.593 (+/-0.202) for {'n_neighbors': 6, 'weights': 'distance'}\n",
      "0.605 (+/-0.156) for {'n_neighbors': 7, 'weights': 'uniform'}\n",
      "0.642 (+/-0.151) for {'n_neighbors': 7, 'weights': 'distance'}\n",
      "0.642 (+/-0.087) for {'n_neighbors': 8, 'weights': 'uniform'}\n",
      "0.691 (+/-0.147) for {'n_neighbors': 8, 'weights': 'distance'}\n",
      "0.580 (+/-0.181) for {'n_neighbors': 9, 'weights': 'uniform'}\n",
      "0.593 (+/-0.155) for {'n_neighbors': 9, 'weights': 'distance'}\n",
      "0.630 (+/-0.169) for {'n_neighbors': 10, 'weights': 'uniform'}\n",
      "0.630 (+/-0.248) for {'n_neighbors': 10, 'weights': 'distance'}\n",
      "0.593 (+/-0.195) for {'n_neighbors': 11, 'weights': 'uniform'}\n",
      "0.605 (+/-0.150) for {'n_neighbors': 11, 'weights': 'distance'}\n",
      "Best parameters: {'n_neighbors': 8, 'weights': 'distance'}\n",
      "0.691358024691358 0.6153846153846154\n",
      "time spent: 0.12 minutes\n"
     ]
    }
   ],
   "source": [
    "start = time.clock()\n",
    "knn = KNeighborsClassifier(algorithm='brute', metric=lambda a,b: metricMale(a,b))\n",
    "parameters ={'n_neighbors': range(3,12), 'weights': ['uniform', 'distance']}\n",
    "clf_m_1 = GridSearchCV(knn, parameters, cv=5)\n",
    "clf_m_1.fit(X_m_1_train, y_m_1_train)\n",
    "means = clf_m_1.cv_results_['mean_test_score']\n",
    "stds = clf_m_1.cv_results_['std_test_score']\n",
    "for mean, std, params in zip(means, stds, clf_m_1.cv_results_['params']):\n",
    "    print(\"%0.3f (+/-%0.03f) for %r\" % (mean, std * 2, params))\n",
    "print('Best parameters:', clf_m_1.best_params_)\n",
    "print(clf_m_1.best_score_, accuracy_score(y_m_1_test, clf_m_1.predict(X_m_1_test)))\n",
    "print('time spent: %.2f minutes' % ((time.clock() - start)/60))"
   ]
  },
  {
   "cell_type": "code",
   "execution_count": null,
   "metadata": {},
   "outputs": [],
   "source": []
  }
 ],
 "metadata": {
  "kernelspec": {
   "display_name": "Python 3",
   "language": "python",
   "name": "python3"
  },
  "language_info": {
   "codemirror_mode": {
    "name": "ipython",
    "version": 3
   },
   "file_extension": ".py",
   "mimetype": "text/x-python",
   "name": "python",
   "nbconvert_exporter": "python",
   "pygments_lexer": "ipython3",
   "version": "3.6.5"
  }
 },
 "nbformat": 4,
 "nbformat_minor": 2
}
