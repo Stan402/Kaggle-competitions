{
 "cells": [
  {
   "cell_type": "code",
   "execution_count": 21,
   "metadata": {},
   "outputs": [],
   "source": [
    "import numpy as np\n",
    "import pandas as pd\n",
    "import matplotlib.pyplot as plt\n",
    "%matplotlib inline\n",
    "import seaborn as sns\n",
    "import copy\n",
    "import math\n",
    "import random\n",
    "import time\n",
    "import graphviz\n",
    "from sklearn.model_selection import train_test_split\n",
    "from sklearn.tree import DecisionTreeClassifier\n",
    "from sklearn.tree import export_graphviz\n",
    "from sklearn.ensemble import RandomForestClassifier\n",
    "from sklearn.model_selection import GridSearchCV\n",
    "from sklearn.metrics import accuracy_score\n",
    "from sklearn.neighbors import KNeighborsClassifier"
   ]
  },
  {
   "cell_type": "code",
   "execution_count": 2,
   "metadata": {},
   "outputs": [
    {
     "data": {
      "text/plain": [
       "((623, 9), (268, 9))"
      ]
     },
     "execution_count": 2,
     "metadata": {},
     "output_type": "execute_result"
    }
   ],
   "source": [
    "data = pd.read_csv('train_clean.csv', index_col=0)\n",
    "y = data['Survived'].copy()\n",
    "X = data.drop(['PassengerId', 'Survived', 'Name'], axis=1)\n",
    "X_train, X_test, y_train, y_test = train_test_split(X, y, test_size=0.3, stratify=y, random_state=111)\n",
    "X_train.shape, X_test.shape"
   ]
  },
  {
   "cell_type": "code",
   "execution_count": 3,
   "metadata": {},
   "outputs": [
    {
     "data": {
      "text/html": [
       "<div>\n",
       "<style scoped>\n",
       "    .dataframe tbody tr th:only-of-type {\n",
       "        vertical-align: middle;\n",
       "    }\n",
       "\n",
       "    .dataframe tbody tr th {\n",
       "        vertical-align: top;\n",
       "    }\n",
       "\n",
       "    .dataframe thead th {\n",
       "        text-align: right;\n",
       "    }\n",
       "</style>\n",
       "<table border=\"1\" class=\"dataframe\">\n",
       "  <thead>\n",
       "    <tr style=\"text-align: right;\">\n",
       "      <th></th>\n",
       "      <th>Pclass</th>\n",
       "      <th>Sex</th>\n",
       "      <th>Age</th>\n",
       "      <th>SibSp</th>\n",
       "      <th>Parch</th>\n",
       "      <th>Ticket</th>\n",
       "      <th>Fare</th>\n",
       "      <th>Cabin</th>\n",
       "      <th>Embarked</th>\n",
       "    </tr>\n",
       "  </thead>\n",
       "  <tbody>\n",
       "    <tr>\n",
       "      <th>680</th>\n",
       "      <td>3</td>\n",
       "      <td>female</td>\n",
       "      <td>0.0</td>\n",
       "      <td>0</td>\n",
       "      <td>0</td>\n",
       "      <td>330935</td>\n",
       "      <td>8.1375</td>\n",
       "      <td>Unknown</td>\n",
       "      <td>Q</td>\n",
       "    </tr>\n",
       "    <tr>\n",
       "      <th>810</th>\n",
       "      <td>3</td>\n",
       "      <td>male</td>\n",
       "      <td>26.0</td>\n",
       "      <td>0</td>\n",
       "      <td>0</td>\n",
       "      <td>3474</td>\n",
       "      <td>7.8875</td>\n",
       "      <td>Unknown</td>\n",
       "      <td>S</td>\n",
       "    </tr>\n",
       "    <tr>\n",
       "      <th>727</th>\n",
       "      <td>3</td>\n",
       "      <td>female</td>\n",
       "      <td>0.0</td>\n",
       "      <td>0</td>\n",
       "      <td>0</td>\n",
       "      <td>36866</td>\n",
       "      <td>7.7375</td>\n",
       "      <td>Unknown</td>\n",
       "      <td>Q</td>\n",
       "    </tr>\n",
       "    <tr>\n",
       "      <th>775</th>\n",
       "      <td>3</td>\n",
       "      <td>male</td>\n",
       "      <td>18.0</td>\n",
       "      <td>0</td>\n",
       "      <td>0</td>\n",
       "      <td>347078</td>\n",
       "      <td>7.7500</td>\n",
       "      <td>Unknown</td>\n",
       "      <td>S</td>\n",
       "    </tr>\n",
       "    <tr>\n",
       "      <th>795</th>\n",
       "      <td>2</td>\n",
       "      <td>male</td>\n",
       "      <td>39.0</td>\n",
       "      <td>0</td>\n",
       "      <td>0</td>\n",
       "      <td>28213</td>\n",
       "      <td>13.0000</td>\n",
       "      <td>Unknown</td>\n",
       "      <td>S</td>\n",
       "    </tr>\n",
       "  </tbody>\n",
       "</table>\n",
       "</div>"
      ],
      "text/plain": [
       "     Pclass     Sex   Age  SibSp  Parch  Ticket     Fare    Cabin Embarked\n",
       "680       3  female   0.0      0      0  330935   8.1375  Unknown        Q\n",
       "810       3    male  26.0      0      0    3474   7.8875  Unknown        S\n",
       "727       3  female   0.0      0      0   36866   7.7375  Unknown        Q\n",
       "775       3    male  18.0      0      0  347078   7.7500  Unknown        S\n",
       "795       2    male  39.0      0      0   28213  13.0000  Unknown        S"
      ]
     },
     "execution_count": 3,
     "metadata": {},
     "output_type": "execute_result"
    }
   ],
   "source": [
    "X_train.head()"
   ]
  },
  {
   "cell_type": "code",
   "execution_count": 4,
   "metadata": {},
   "outputs": [],
   "source": [
    "def safeLog(x):\n",
    "    if x == 0:\n",
    "        return math.log(0.1)\n",
    "    else:\n",
    "        return math.log(x)"
   ]
  },
  {
   "cell_type": "code",
   "execution_count": 5,
   "metadata": {},
   "outputs": [
    {
     "data": {
      "text/plain": [
       "71.0"
      ]
     },
     "execution_count": 5,
     "metadata": {},
     "output_type": "execute_result"
    }
   ],
   "source": [
    "X_train['Age'].max()"
   ]
  },
  {
   "cell_type": "code",
   "execution_count": 14,
   "metadata": {},
   "outputs": [],
   "source": [
    "def metric1(x1, x2, params):\n",
    "    distance = 0\n",
    "    #Pclass\n",
    "    distance += abs(x1[0] - x2[0])/ 2\n",
    "    #Sex\n",
    "    distance += (x1[1] != x2[1]) * params[0]\n",
    "    #Age\n",
    "    if (x1[2] * x2[2] == 0) & (x1[2] != x2[2]):\n",
    "        distance += params[1]\n",
    "    else:\n",
    "        distance += (abs(x1[2] - x2[2])/71.0) \n",
    "    #SibSp\n",
    "    if x1[3] == x2[3]:\n",
    "        pass\n",
    "    elif x1[3] * x2[3] == 0:\n",
    "        distance += 1\n",
    "    else:\n",
    "        distance += 0.75\n",
    "    #Parch\n",
    "    if x1[4] == x2[4]:\n",
    "        pass\n",
    "    elif x1[4] * x2[4] == 0:\n",
    "        distance += 1\n",
    "    else:\n",
    "        distance += abs(x1[4] - x2[4]) / params[2]\n",
    "    #Ticket\n",
    "    distance += (x1[5] != x2[5]) \n",
    "    #Fare\n",
    "    distance += abs(safeLog(x1[6]) - safeLog(x2[6]))/params[3]\n",
    "    #Cabin\n",
    "    if (x1[7] != x2[7]):\n",
    "        distance += 1\n",
    "    elif x1[7] == 0:\n",
    "        distance += 0.3\n",
    "    #Embarked\n",
    "    distance += (x1[5] != x2[5])/100.0\n",
    "    return distance\n",
    "    "
   ]
  },
  {
   "cell_type": "code",
   "execution_count": 7,
   "metadata": {},
   "outputs": [
    {
     "data": {
      "text/html": [
       "<div>\n",
       "<style scoped>\n",
       "    .dataframe tbody tr th:only-of-type {\n",
       "        vertical-align: middle;\n",
       "    }\n",
       "\n",
       "    .dataframe tbody tr th {\n",
       "        vertical-align: top;\n",
       "    }\n",
       "\n",
       "    .dataframe thead th {\n",
       "        text-align: right;\n",
       "    }\n",
       "</style>\n",
       "<table border=\"1\" class=\"dataframe\">\n",
       "  <thead>\n",
       "    <tr style=\"text-align: right;\">\n",
       "      <th></th>\n",
       "      <th>Pclass</th>\n",
       "      <th>Sex</th>\n",
       "      <th>Age</th>\n",
       "      <th>SibSp</th>\n",
       "      <th>Parch</th>\n",
       "      <th>Ticket</th>\n",
       "      <th>Fare</th>\n",
       "      <th>Cabin</th>\n",
       "      <th>Embarked</th>\n",
       "    </tr>\n",
       "  </thead>\n",
       "  <tbody>\n",
       "    <tr>\n",
       "      <th>437</th>\n",
       "      <td>2</td>\n",
       "      <td>female</td>\n",
       "      <td>24.0</td>\n",
       "      <td>2</td>\n",
       "      <td>3</td>\n",
       "      <td>29106</td>\n",
       "      <td>18.7500</td>\n",
       "      <td>Unknown</td>\n",
       "      <td>S</td>\n",
       "    </tr>\n",
       "    <tr>\n",
       "      <th>36</th>\n",
       "      <td>3</td>\n",
       "      <td>male</td>\n",
       "      <td>0.0</td>\n",
       "      <td>0</td>\n",
       "      <td>0</td>\n",
       "      <td>2677</td>\n",
       "      <td>7.2292</td>\n",
       "      <td>Unknown</td>\n",
       "      <td>C</td>\n",
       "    </tr>\n",
       "    <tr>\n",
       "      <th>692</th>\n",
       "      <td>3</td>\n",
       "      <td>male</td>\n",
       "      <td>0.0</td>\n",
       "      <td>0</td>\n",
       "      <td>0</td>\n",
       "      <td>1601</td>\n",
       "      <td>56.4958</td>\n",
       "      <td>Unknown</td>\n",
       "      <td>S</td>\n",
       "    </tr>\n",
       "    <tr>\n",
       "      <th>215</th>\n",
       "      <td>1</td>\n",
       "      <td>female</td>\n",
       "      <td>31.0</td>\n",
       "      <td>1</td>\n",
       "      <td>0</td>\n",
       "      <td>35273</td>\n",
       "      <td>113.2750</td>\n",
       "      <td>D36</td>\n",
       "      <td>C</td>\n",
       "    </tr>\n",
       "    <tr>\n",
       "      <th>809</th>\n",
       "      <td>1</td>\n",
       "      <td>female</td>\n",
       "      <td>33.0</td>\n",
       "      <td>1</td>\n",
       "      <td>0</td>\n",
       "      <td>113806</td>\n",
       "      <td>53.1000</td>\n",
       "      <td>E8</td>\n",
       "      <td>S</td>\n",
       "    </tr>\n",
       "  </tbody>\n",
       "</table>\n",
       "</div>"
      ],
      "text/plain": [
       "     Pclass     Sex   Age  SibSp  Parch  Ticket      Fare    Cabin Embarked\n",
       "437       2  female  24.0      2      3   29106   18.7500  Unknown        S\n",
       "36        3    male   0.0      0      0    2677    7.2292  Unknown        C\n",
       "692       3    male   0.0      0      0    1601   56.4958  Unknown        S\n",
       "215       1  female  31.0      1      0   35273  113.2750      D36        C\n",
       "809       1  female  33.0      1      0  113806   53.1000       E8        S"
      ]
     },
     "execution_count": 7,
     "metadata": {},
     "output_type": "execute_result"
    }
   ],
   "source": [
    "X_train.tail(5)"
   ]
  },
  {
   "cell_type": "code",
   "execution_count": 8,
   "metadata": {},
   "outputs": [],
   "source": [
    "def cabinToNumber(cabin):\n",
    "    if cabin == 'Unknown':\n",
    "        return 0\n",
    "    else:\n",
    "        return hash(cabin)\n",
    "\n",
    "def toNumbers(data):\n",
    "    X = data.copy()\n",
    "    X['Sex'] = X['Sex'] == 'female'\n",
    "    X['Ticket'] = X['Ticket'].apply(hash)\n",
    "    X['Cabin'] = X['Cabin'].apply(cabinToNumber)\n",
    "    X['Embarked'] = X['Embarked'].apply(ord)\n",
    "    return X\n",
    "    "
   ]
  },
  {
   "cell_type": "code",
   "execution_count": 9,
   "metadata": {},
   "outputs": [
    {
     "data": {
      "text/html": [
       "<div>\n",
       "<style scoped>\n",
       "    .dataframe tbody tr th:only-of-type {\n",
       "        vertical-align: middle;\n",
       "    }\n",
       "\n",
       "    .dataframe tbody tr th {\n",
       "        vertical-align: top;\n",
       "    }\n",
       "\n",
       "    .dataframe thead th {\n",
       "        text-align: right;\n",
       "    }\n",
       "</style>\n",
       "<table border=\"1\" class=\"dataframe\">\n",
       "  <thead>\n",
       "    <tr style=\"text-align: right;\">\n",
       "      <th></th>\n",
       "      <th>Pclass</th>\n",
       "      <th>Sex</th>\n",
       "      <th>Age</th>\n",
       "      <th>SibSp</th>\n",
       "      <th>Parch</th>\n",
       "      <th>Ticket</th>\n",
       "      <th>Fare</th>\n",
       "      <th>Cabin</th>\n",
       "      <th>Embarked</th>\n",
       "    </tr>\n",
       "  </thead>\n",
       "  <tbody>\n",
       "    <tr>\n",
       "      <th>437</th>\n",
       "      <td>2</td>\n",
       "      <td>True</td>\n",
       "      <td>24.0</td>\n",
       "      <td>2</td>\n",
       "      <td>3</td>\n",
       "      <td>2329843637095374628</td>\n",
       "      <td>18.7500</td>\n",
       "      <td>0</td>\n",
       "      <td>83</td>\n",
       "    </tr>\n",
       "    <tr>\n",
       "      <th>36</th>\n",
       "      <td>3</td>\n",
       "      <td>False</td>\n",
       "      <td>0.0</td>\n",
       "      <td>0</td>\n",
       "      <td>0</td>\n",
       "      <td>7177476274700848360</td>\n",
       "      <td>7.2292</td>\n",
       "      <td>0</td>\n",
       "      <td>67</td>\n",
       "    </tr>\n",
       "    <tr>\n",
       "      <th>692</th>\n",
       "      <td>3</td>\n",
       "      <td>False</td>\n",
       "      <td>0.0</td>\n",
       "      <td>0</td>\n",
       "      <td>0</td>\n",
       "      <td>9021645250135126965</td>\n",
       "      <td>56.4958</td>\n",
       "      <td>0</td>\n",
       "      <td>83</td>\n",
       "    </tr>\n",
       "    <tr>\n",
       "      <th>215</th>\n",
       "      <td>1</td>\n",
       "      <td>True</td>\n",
       "      <td>31.0</td>\n",
       "      <td>1</td>\n",
       "      <td>0</td>\n",
       "      <td>-3551648163321888517</td>\n",
       "      <td>113.2750</td>\n",
       "      <td>8790039787250679278</td>\n",
       "      <td>67</td>\n",
       "    </tr>\n",
       "    <tr>\n",
       "      <th>809</th>\n",
       "      <td>1</td>\n",
       "      <td>True</td>\n",
       "      <td>33.0</td>\n",
       "      <td>1</td>\n",
       "      <td>0</td>\n",
       "      <td>1080942435171150265</td>\n",
       "      <td>53.1000</td>\n",
       "      <td>-7273539201955125537</td>\n",
       "      <td>83</td>\n",
       "    </tr>\n",
       "  </tbody>\n",
       "</table>\n",
       "</div>"
      ],
      "text/plain": [
       "     Pclass    Sex   Age  SibSp  Parch               Ticket      Fare  \\\n",
       "437       2   True  24.0      2      3  2329843637095374628   18.7500   \n",
       "36        3  False   0.0      0      0  7177476274700848360    7.2292   \n",
       "692       3  False   0.0      0      0  9021645250135126965   56.4958   \n",
       "215       1   True  31.0      1      0 -3551648163321888517  113.2750   \n",
       "809       1   True  33.0      1      0  1080942435171150265   53.1000   \n",
       "\n",
       "                   Cabin  Embarked  \n",
       "437                    0        83  \n",
       "36                     0        67  \n",
       "692                    0        83  \n",
       "215  8790039787250679278        67  \n",
       "809 -7273539201955125537        83  "
      ]
     },
     "execution_count": 9,
     "metadata": {},
     "output_type": "execute_result"
    }
   ],
   "source": [
    "X1_train = toNumbers(X_train)\n",
    "X1_test = toNumbers(X_test)\n",
    "X1_train.tail()"
   ]
  },
  {
   "cell_type": "code",
   "execution_count": 15,
   "metadata": {},
   "outputs": [
    {
     "data": {
      "text/plain": [
       "0.8134328358208955"
      ]
     },
     "execution_count": 15,
     "metadata": {},
     "output_type": "execute_result"
    }
   ],
   "source": [
    "clf = KNeighborsClassifier(n_neighbors=9, algorithm='brute', metric=lambda a,b: metric1(a,b,[5.0, 0.1, 10.0, 3.0]))\n",
    "clf.fit(X1_train, y_train)\n",
    "clf.score(X1_test, y_test)"
   ]
  },
  {
   "cell_type": "code",
   "execution_count": 70,
   "metadata": {},
   "outputs": [],
   "source": [
    "y_pred = clf.predict(X1_test)"
   ]
  },
  {
   "cell_type": "code",
   "execution_count": 11,
   "metadata": {},
   "outputs": [
    {
     "data": {
      "text/plain": [
       "array([[1.        , 0.        ],\n",
       "       [0.88888889, 0.11111111],\n",
       "       [0.44444444, 0.55555556],\n",
       "       [1.        , 0.        ],\n",
       "       [0.        , 1.        ]])"
      ]
     },
     "execution_count": 11,
     "metadata": {},
     "output_type": "execute_result"
    }
   ],
   "source": [
    "y_proba = clf.predict_proba(X1_test)\n",
    "y_proba[:5]"
   ]
  },
  {
   "cell_type": "code",
   "execution_count": 33,
   "metadata": {},
   "outputs": [],
   "source": [
    "metricParams = []\n",
    "for a in range(5,6):\n",
    "    for b in [0.1]:\n",
    "        for c in range(10,12,5):\n",
    "            for d in range(3, 4):\n",
    "                metricParams.append(lambda x1,x2: metric1(x1, x2, [a, b, c, d]))"
   ]
  },
  {
   "cell_type": "code",
   "execution_count": 36,
   "metadata": {},
   "outputs": [
    {
     "name": "stdout",
     "output_type": "stream",
     "text": [
      "0.791 (+/-0.065) for {'metric': <function <lambda> at 0x1a123e0f28>, 'n_neighbors': 9, 'weights': 'uniform'}\n",
      "0.801 (+/-0.058) for {'metric': <function <lambda> at 0x1a123e0f28>, 'n_neighbors': 9, 'weights': 'distance'}\n",
      "0.803 (+/-0.061) for {'metric': <function <lambda> at 0x1a123e0f28>, 'n_neighbors': 10, 'weights': 'uniform'}\n",
      "0.801 (+/-0.072) for {'metric': <function <lambda> at 0x1a123e0f28>, 'n_neighbors': 10, 'weights': 'distance'}\n",
      "0.798 (+/-0.084) for {'metric': <function <lambda> at 0x1a123e0f28>, 'n_neighbors': 11, 'weights': 'uniform'}\n",
      "0.806 (+/-0.084) for {'metric': <function <lambda> at 0x1a123e0f28>, 'n_neighbors': 11, 'weights': 'distance'}\n",
      "0.798 (+/-0.090) for {'metric': <function <lambda> at 0x1a123e0f28>, 'n_neighbors': 12, 'weights': 'uniform'}\n",
      "0.803 (+/-0.078) for {'metric': <function <lambda> at 0x1a123e0f28>, 'n_neighbors': 12, 'weights': 'distance'}\n",
      "0.796 (+/-0.092) for {'metric': <function <lambda> at 0x1a123e0f28>, 'n_neighbors': 13, 'weights': 'uniform'}\n",
      "0.799 (+/-0.093) for {'metric': <function <lambda> at 0x1a123e0f28>, 'n_neighbors': 13, 'weights': 'distance'}\n",
      "0.799 (+/-0.087) for {'metric': <function <lambda> at 0x1a123e0f28>, 'n_neighbors': 14, 'weights': 'uniform'}\n",
      "0.804 (+/-0.085) for {'metric': <function <lambda> at 0x1a123e0f28>, 'n_neighbors': 14, 'weights': 'distance'}\n",
      "0.791 (+/-0.065) for {'metric': <function <lambda> at 0x1a123e0a60>, 'n_neighbors': 9, 'weights': 'uniform'}\n",
      "0.801 (+/-0.058) for {'metric': <function <lambda> at 0x1a123e0a60>, 'n_neighbors': 9, 'weights': 'distance'}\n",
      "0.803 (+/-0.061) for {'metric': <function <lambda> at 0x1a123e0a60>, 'n_neighbors': 10, 'weights': 'uniform'}\n",
      "0.801 (+/-0.072) for {'metric': <function <lambda> at 0x1a123e0a60>, 'n_neighbors': 10, 'weights': 'distance'}\n",
      "0.798 (+/-0.084) for {'metric': <function <lambda> at 0x1a123e0a60>, 'n_neighbors': 11, 'weights': 'uniform'}\n",
      "0.806 (+/-0.084) for {'metric': <function <lambda> at 0x1a123e0a60>, 'n_neighbors': 11, 'weights': 'distance'}\n",
      "0.798 (+/-0.090) for {'metric': <function <lambda> at 0x1a123e0a60>, 'n_neighbors': 12, 'weights': 'uniform'}\n",
      "0.803 (+/-0.078) for {'metric': <function <lambda> at 0x1a123e0a60>, 'n_neighbors': 12, 'weights': 'distance'}\n",
      "0.796 (+/-0.092) for {'metric': <function <lambda> at 0x1a123e0a60>, 'n_neighbors': 13, 'weights': 'uniform'}\n",
      "0.799 (+/-0.093) for {'metric': <function <lambda> at 0x1a123e0a60>, 'n_neighbors': 13, 'weights': 'distance'}\n",
      "0.799 (+/-0.087) for {'metric': <function <lambda> at 0x1a123e0a60>, 'n_neighbors': 14, 'weights': 'uniform'}\n",
      "0.804 (+/-0.085) for {'metric': <function <lambda> at 0x1a123e0a60>, 'n_neighbors': 14, 'weights': 'distance'}\n",
      "Best parameters: {'metric': <function <lambda> at 0x1a123e0f28>, 'n_neighbors': 11, 'weights': 'distance'}\n",
      "0.8057784911717496 0.7985074626865671\n",
      "time spent: 10.45 minutes\n"
     ]
    }
   ],
   "source": [
    "start = time.clock()\n",
    "knn = KNeighborsClassifier(algorithm='brute')\n",
    "parameters ={'n_neighbors': range(9,15), 'weights': ['uniform', 'distance'], 'metric': metricParams}\n",
    "clf1 = GridSearchCV(knn, parameters, cv=5)\n",
    "clf1.fit(X1_train, y_train)\n",
    "means = clf1.cv_results_['mean_test_score']\n",
    "stds = clf1.cv_results_['std_test_score']\n",
    "for mean, std, params in zip(means, stds, clf1.cv_results_['params']):\n",
    "    print(\"%0.3f (+/-%0.03f) for %r\" % (mean, std * 2, params))\n",
    "print('Best parameters:', clf1.best_params_)\n",
    "print(clf1.best_score_, accuracy_score(y_test, clf1.predict(X1_test)))\n",
    "print('time spent: %.2f minutes' % ((time.clock() - start)/60))"
   ]
  },
  {
   "cell_type": "code",
   "execution_count": 37,
   "metadata": {},
   "outputs": [
    {
     "data": {
      "text/plain": [
       "numpy.ndarray"
      ]
     },
     "execution_count": 37,
     "metadata": {},
     "output_type": "execute_result"
    }
   ],
   "source": [
    "knn_proba = clf1.predict_proba(X1_test)\n",
    "type(knn_proba)"
   ]
  },
  {
   "cell_type": "code",
   "execution_count": 38,
   "metadata": {},
   "outputs": [
    {
     "data": {
      "text/plain": [
       "array([[0.82210502, 0.17789498],\n",
       "       [0.81726568, 0.18273432],\n",
       "       [0.4472521 , 0.5527479 ],\n",
       "       [1.        , 0.        ],\n",
       "       [0.        , 1.        ]])"
      ]
     },
     "execution_count": 38,
     "metadata": {},
     "output_type": "execute_result"
    }
   ],
   "source": [
    "knn_proba[:5]"
   ]
  },
  {
   "cell_type": "code",
   "execution_count": null,
   "metadata": {},
   "outputs": [],
   "source": []
  }
 ],
 "metadata": {
  "kernelspec": {
   "display_name": "Python 3",
   "language": "python",
   "name": "python3"
  },
  "language_info": {
   "codemirror_mode": {
    "name": "ipython",
    "version": 3
   },
   "file_extension": ".py",
   "mimetype": "text/x-python",
   "name": "python",
   "nbconvert_exporter": "python",
   "pygments_lexer": "ipython3",
   "version": "3.6.5"
  }
 },
 "nbformat": 4,
 "nbformat_minor": 2
}
